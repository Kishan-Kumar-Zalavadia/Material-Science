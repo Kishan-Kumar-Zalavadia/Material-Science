{
  "nbformat": 4,
  "nbformat_minor": 0,
  "metadata": {
    "colab": {
      "provenance": [],
      "mount_file_id": "1RU03HmQfBIIb5i-mLNosWbR3SqHn-yKG",
      "authorship_tag": "ABX9TyN2LJu4BWu6ugXUTy1WVnG+",
      "include_colab_link": true
    },
    "kernelspec": {
      "name": "python3",
      "display_name": "Python 3"
    },
    "language_info": {
      "name": "python"
    }
  },
  "cells": [
    {
      "cell_type": "markdown",
      "metadata": {
        "id": "view-in-github",
        "colab_type": "text"
      },
      "source": [
        "<a href=\"https://colab.research.google.com/github/Kishan-Kumar-Zalavadia/Material-Science/blob/main/code_2.ipynb\" target=\"_parent\"><img src=\"https://colab.research.google.com/assets/colab-badge.svg\" alt=\"Open In Colab\"/></a>"
      ]
    },
    {
      "cell_type": "markdown",
      "source": [
        "# Method to solve the equation"
      ],
      "metadata": {
        "id": "ldvYdmfqYkPu"
      }
    },
    {
      "cell_type": "code",
      "source": [
        "import numpy as np\n",
        "\n",
        "def calculate(b0, d1, d2, ee, ei, ep):\n",
        "  if(abs((ep-ei)/(ei+ee))<1):\n",
        "    result = b0 - d1 * ((abs((ep-ei)/(ei+ee)) * np.arctanh((ep-ei)/(ei+ee))) - (d2 * ((ep-ei)/(ei+ee))));\n",
        "  return result;"
      ],
      "metadata": {
        "id": "73Et8mcMYj4r"
      },
      "execution_count": null,
      "outputs": []
    },
    {
      "cell_type": "code",
      "source": [
        "b0 = 2775;\n",
        "d1 = 560;\n",
        "d2 = 0.05;\n",
        "ee = 0.001;\n",
        "ei = 0.165;\n",
        "ep = 0.04;\n",
        "print(calculate(b0, d1, d2, ee, ei, ep))"
      ],
      "metadata": {
        "colab": {
          "base_uri": "https://localhost:8080/"
        },
        "id": "0uxa0PgGaasn",
        "outputId": "5a414240-9827-49c4-d3e0-2baadae82015"
      },
      "execution_count": null,
      "outputs": [
        {
          "output_type": "stream",
          "name": "stdout",
          "text": [
            "3167.1162169659724\n"
          ]
        }
      ]
    },
    {
      "cell_type": "markdown",
      "source": [
        "# Find the best b0 value"
      ],
      "metadata": {
        "id": "uVd6ChEmj0-k"
      }
    },
    {
      "cell_type": "code",
      "source": [
        "import numpy as np\n",
        "import pandas as pd\n",
        "\n",
        "# Read data from Excel file\n",
        "data = pd.read_excel(\"/content/Data.xlsx\")\n",
        "original_results = data['hard.Rate'].values\n",
        "ep_values = data['t.strain'].values\n",
        "\n",
        "# Define function to calculate MSE\n",
        "def calculate_mse(b0, d1, d2, ee, ei, ep_values, original_results):\n",
        "    calculated_results = []\n",
        "    for ep in ep_values:\n",
        "        if abs((ep - ei) / (ei + ee)) < 1:\n",
        "            result = b0 - d1 * ((abs((ep - ei) / (ei + ee)) * np.arctanh((ep - ei) / (ei + ee))) - (d2 * ((ep - ei) / (ei + ee))))\n",
        "            calculated_results.append(result)\n",
        "        else:\n",
        "            calculated_results.append(None)  # Handle cases where the condition is not met\n",
        "    mse = np.mean((np.array(original_results) - np.array(calculated_results)) ** 2)\n",
        "    return mse\n",
        "\n",
        "# Iterate over B0 values and find the one with least MSE\n",
        "d1 = 560;\n",
        "d2 = 0.05;\n",
        "ee = 0.001;\n",
        "ei = 0.165;\n",
        "ep = 0.04;\n",
        "best_b0 = None\n",
        "min_mse = float('inf')\n",
        "count=0;\n",
        "for b0 in range(1520, 6201, 10):\n",
        "    count+=1\n",
        "    mse = calculate_mse(b0, d1, d2, ee, ei, ep_values, original_results)\n",
        "    if mse < min_mse:\n",
        "        min_mse = mse\n",
        "        best_b0 = b0\n",
        "print(\"Count:\",count)\n",
        "print(\"Best B0 value:\", best_b0)\n",
        "print(\"Corresponding MSE:\", min_mse)\n"
      ],
      "metadata": {
        "colab": {
          "base_uri": "https://localhost:8080/"
        },
        "id": "_XZeZOeffGIR",
        "outputId": "6172c896-ecf0-4721-f1c1-600eadd3460f"
      },
      "execution_count": null,
      "outputs": [
        {
          "output_type": "stream",
          "name": "stdout",
          "text": [
            "Count: 469\n",
            "Best B0 value: 2840\n",
            "Corresponding MSE: 19533.66467558023\n"
          ]
        }
      ]
    },
    {
      "cell_type": "code",
      "source": [
        "import numpy as np\n",
        "import pandas as pd\n",
        "\n",
        "# Read data from Excel file\n",
        "data = pd.read_excel(\"/content/Data.xlsx\")\n",
        "original_results = data['hard.Rate'].values\n",
        "ep_values = data['t.strain'].values\n",
        "\n",
        "# Define function to calculate MSE\n",
        "# def calculate_mse(b0, d1, d2, ee, ei, ep_values, original_results):\n",
        "#     calculated_results = []\n",
        "#     for ep in ep_values:\n",
        "#         if abs((ep - ei) / (ei + ee)) < 1:\n",
        "#             result = b0 - d1 * ((abs((ep - ei) / (ei + ee)) * np.arctanh((ep - ei) / (ei + ee))) - (d2 * ((ep - ei) / (ei + ee))))\n",
        "#             calculated_results.append(result)\n",
        "#         else:\n",
        "#             calculated_results.append(None)  # Handle cases where the condition is not met\n",
        "#     mse = np.mean((np.array(original_results) - np.array(calculated_results)) ** 2)\n",
        "#     return mse\n",
        "\n",
        "def calculate_mse(b0, d1, d2, ee, ei, ep_values, original_results):\n",
        "    print(\"Calculations:\")\n",
        "    calculated_results = []\n",
        "    for i, ep in enumerate(ep_values):\n",
        "        if abs((ep - ei) / (ei + ee)) < 1:\n",
        "            result = b0 - d1 * ((abs((ep - ei) / (ei + ee)) * np.arctanh((ep - ei) / (ei + ee))) - (d2 * ((ep - ei) / (ei + ee))))\n",
        "            calculated_results.append(result)\n",
        "        else:\n",
        "            print(\"There is a problem\")\n",
        "            calculated_results.append(None)  # Handle cases where the condition is not met\n",
        "\n",
        "    # Calculate the squared differences\n",
        "    squared_diffs = [(orig - calc) ** 2 for orig, calc in zip(original_results, calculated_results)]\n",
        "\n",
        "    # Calculate the mean squared error\n",
        "    mse = np.mean(squared_diffs)\n",
        "\n",
        "    # Print the steps and MSE\n",
        "    print(\"Steps:\")\n",
        "    for i, (orig, calc) in enumerate(zip(original_results, calculated_results)):\n",
        "        print(f\"Step {i+1}: ({orig} - {calc})^2 = {squared_diffs[i]}\")\n",
        "    print(f\"\\nMSE = {mse}\")\n",
        "\n",
        "    return mse\n",
        "\n",
        "\n",
        "# Iterate over B0 values and find the one with least MSE\n",
        "d1 = 560;\n",
        "d2 = 0.05;\n",
        "ee = 0.001;\n",
        "ei = 0.165;\n",
        "ep = 0.04;\n",
        "best_b0 = None\n",
        "min_mse = float('inf')\n",
        "count=0;\n",
        "# for b0 in range(1520, 6201, 10):\n",
        "#     count+=1\n",
        "#     mse = calculate_mse(b0, d1, d2, ee, ei, ep_values, original_results)\n",
        "#     if mse < min_mse:\n",
        "#         min_mse = mse\n",
        "#         best_b0 = b0\n",
        "# print(\"Count:\",count)\n",
        "mse = calculate_mse(2820, d1, d2, ee, ei, ep_values, original_results)\n",
        "\n",
        "# print(\"Best B0 value:\", best_b0)\n",
        "# print(\"Corresponding MSE:\", min_mse)\n"
      ],
      "metadata": {
        "colab": {
          "base_uri": "https://localhost:8080/"
        },
        "id": "maps5wYoKJW0",
        "outputId": "10607199-2be8-41ce-e95f-2536b8fe9c05"
      },
      "execution_count": null,
      "outputs": [
        {
          "output_type": "stream",
          "name": "stdout",
          "text": [
            "Calculations:\n",
            "Steps:\n",
            "Step 1: (4557.801 - 4406.975114110967)^2 = 22748.44785421163\n",
            "Step 2: (4340.823 - 3871.217942553082)^2 = 220528.90997972334\n",
            "Step 3: (4143.69 - 3675.854758460201)^2 = 218869.81322660163\n",
            "Step 4: (3965.269 - 3549.472570099877)^2 = 172886.67111768774\n",
            "Step 5: (3804.455 - 3454.7468750777466)^2 = 122295.77263663833\n",
            "Step 6: (3660.174 - 3378.5972994342847)^2 = 79285.43830147451\n",
            "Step 7: (3531.381 - 3314.843684807042)^2 = 46888.40887097443\n",
            "Step 8: (3417.059 - 3260.054185407189)^2 = 24650.511805323044\n",
            "Step 9: (3316.223 - 3212.1162169659724)^2 = 10838.222273694088\n",
            "Step 10: (3227.915 - 3169.632373021165)^2 = 3396.8646075539955\n",
            "Step 11: (3151.208 - 3131.6279215591767)^2 = 383.3794717487973\n",
            "Step 12: (3085.204 - 3097.3946662014796)^2 = 148.61234243589257\n",
            "Step 13: (3029.033 - 3066.401215223903)^2 = 1396.3835090199366\n",
            "Step 14: (2981.856 - 3038.2383365611304)^2 = 3178.967876092555\n",
            "Step 15: (2942.863 - 3012.5840849727992)^2 = 4861.029689784316\n",
            "Step 16: (2911.274 - 2989.1806712389725)^2 = 6069.449423537368\n",
            "Step 17: (2886.336 - 2967.8186148803156)^2 = 6639.41652773387\n",
            "Step 18: (2867.329 - 2948.325584149436)^2 = 6560.446643876647\n",
            "Step 19: (2853.559 - 2930.5583491954812)^2 = 5928.899776527627\n",
            "Step 20: (2844.363 - 2914.396860395978)^2 = 4904.741601963347\n",
            "Step 21: (2839.108 - 2899.7398128011187)^2 = 3676.2167235498755\n",
            "Step 22: (2837.189 - 2886.501272329468)^2 = 2431.7002022956367\n",
            "Step 23: (2838.032 - 2874.608075320262)^2 = 1337.8092858334555\n",
            "Step 24: (2841.09 - 2863.9978013981276)^2 = 524.7673648960524\n",
            "Step 25: (2845.848 - 2854.6171783571053)^2 = 76.89848905872532\n",
            "Step 26: (2851.819 - 2846.4208176661855)^2 = 29.14037250910669\n",
            "Step 27: (2858.545 - 2839.3702068169137)^2 = 367.67269361413753\n",
            "Step 28: (2865.598 - 2833.432904200925)^2 = 1034.5933877636762\n",
            "Step 29: (2872.58 - 2828.5818961667424)^2 = 1935.8331409221148\n",
            "Step 30: (2879.121 - 2824.7950860917304)^2 = 2951.3049219687355\n",
            "Step 31: (2884.882 - 2822.0548928716494)^2 = 3947.245390117254\n",
            "Step 32: (2889.553 - 2820.3479419626997)^2 = 4789.3400579460895\n",
            "Step 33: (2892.851 - 2819.6648365549727)^2 = 5356.21451980227\n",
            "Step 34: (2894.526 - 2820.0)^2 = 5554.124675999976\n",
            "Step 35: (2894.355 - 2820.3351634450273)^2 = 5478.936203624872\n",
            "Step 36: (2892.145 - 2819.6520580373003)^2 = 5255.226634407341\n",
            "Step 37: (2887.733 - 2817.9451071283506)^2 = 4870.349991464834\n",
            "Step 38: (2880.985 - 2815.2049139082696)^2 = 4327.019726235474\n",
            "Step 39: (2871.795 - 2811.4181038332576)^2 = 3645.3695907295964\n",
            "Step 40: (2860.09 - 2806.567095799075)^2 = 2864.7012741013996\n",
            "Step 41: (2845.822 - 2800.6297931830863)^2 = 2042.3355569827072\n",
            "Step 42: (2828.975 - 2793.579182333815)^2 = 1252.86390825781\n",
            "Step 43: (2809.562 - 2785.3828216428947)^2 = 584.6326660247059\n",
            "Step 44: (2787.625 - 2776.0021986018724)^2 = 135.08951234031804\n",
            "Step 45: (2763.237 - 2765.391924679738)^2 = 4.643700375344299\n",
            "Step 46: (2736.497 - 2753.498727670532)^2 = 289.0587437829366\n",
            "Step 47: (2707.536 - 2740.2601871988813)^2 = 1070.8724278274256\n",
            "Step 48: (2676.515 - 2725.603139604022)^2 = 2409.6454497839745\n",
            "Step 49: (2643.622 - 2709.4416508045188)^2 = 4332.226432028808\n",
            "Step 50: (2609.075 - 2691.6744158505644)^2 = 6822.663498854499\n",
            "Step 51: (2573.124 - 2672.1813851196844)^2 = 9812.365546749506\n",
            "Step 52: (2536.045 - 2650.8193287610275)^2 = 13173.146542544398\n",
            "Step 53: (2498.144 - 2627.4159150272008)^2 = 16711.228014799868\n",
            "Step 54: (2459.759 - 2601.7616634388696)^2 = 20164.756423732873\n",
            "Step 55: (2421.255 - 2573.598784776097)^2 = 23208.628759905758\n",
            "Step 56: (2383.026 - 2542.6053337985204)^2 = 25465.56377557965\n",
            "Step 57: (2345.497 - 2508.3720784408233)^2 = 26528.2911771044\n",
            "Step 58: (2309.122 - 2470.367626978835)^2 = 26000.15221979758\n",
            "Step 59: (2274.383 - 2427.8837830340276)^2 = 23562.490392059673\n",
            "Step 60: (2241.793 - 2379.945814592811)^2 = 19086.2001799156\n",
            "Step 61: (2211.895 - 2325.156315192958)^2 = 12828.125519238609\n",
            "Step 62: (2185.259 - 2261.402700565716)^2 = 5797.863135841387\n",
            "Step 63: (2162.486 - 2185.253124922254)^2 = 518.3419772255179\n",
            "Step 64: (2144.206 - 2090.527429900124)^2 = 2881.3888879673227\n",
            "\n",
            "MSE = 19806.20979112757\n"
          ]
        }
      ]
    },
    {
      "cell_type": "markdown",
      "source": [
        "# Find the best d1 and d2 values.\n"
      ],
      "metadata": {
        "id": "TrdC0_S5j5UE"
      }
    },
    {
      "cell_type": "code",
      "source": [
        "import numpy as np\n",
        "import pandas as pd\n",
        "\n",
        "# Read data from Excel file\n",
        "data = pd.read_excel(\"/content/Data.xlsx\")\n",
        "original_results = data['hard.Rate'].values\n",
        "ep_values = data['t.strain'].values\n",
        "\n",
        "# Define function to calculate MSE\n",
        "def calculate_mse(b0, d1, d2, ee, ei, ep_values, original_results):\n",
        "    calculated_results = []\n",
        "    for ep in ep_values:\n",
        "        if abs((ep - ei) / (ei + ee)) < 1:\n",
        "            result = b0 - d1 * ((abs((ep - ei) / (ei + ee)) * np.arctanh((ep - ei) / (ei + ee))) - (d2 * ((ep - ei) / (ei + ee))))\n",
        "            calculated_results.append(result)\n",
        "        else:\n",
        "            calculated_results.append(None)  # Handle cases where the condition is not met\n",
        "    mse = np.mean((np.array(original_results) - np.array(calculated_results)) ** 2)\n",
        "    return mse\n",
        "\n",
        "# Initialize variables to store best parameters\n",
        "b0 = 2775;\n",
        "ee = 0.001;\n",
        "ei = 0.165;\n",
        "best_d1 = None\n",
        "best_d2 = None\n",
        "min_mse = float('inf')\n",
        "\n",
        "# Nested loops to iterate over d1 and d2 values\n",
        "for d1 in range(400, 10001, 10):\n",
        "    for d2 in np.arange(0.05, 0.34, 0.05):\n",
        "        mse = calculate_mse(b0, d1, d2, ee, ei, ep_values, original_results)\n",
        "        if mse < min_mse:\n",
        "            min_mse = mse\n",
        "            best_d1 = d1\n",
        "            best_d2 = d2\n",
        "\n",
        "print(\"Best d1 value:\", best_d1)\n",
        "print(\"Best d2 value:\", best_d2)\n",
        "print(\"Corresponding MSE:\", min_mse)\n"
      ],
      "metadata": {
        "colab": {
          "base_uri": "https://localhost:8080/"
        },
        "id": "fqw-XXtEj9St",
        "outputId": "f46fa981-ad0d-4b9b-c57d-4e71dd60fca1"
      },
      "execution_count": null,
      "outputs": [
        {
          "output_type": "stream",
          "name": "stdout",
          "text": [
            "Best d1 value: 720\n",
            "Best d2 value: 0.05\n",
            "Corresponding MSE: 11658.337491330685\n"
          ]
        }
      ]
    },
    {
      "cell_type": "markdown",
      "source": [
        "# Find the best b0, d1 and d2 values"
      ],
      "metadata": {
        "id": "xm3P6-mZlZcc"
      }
    },
    {
      "cell_type": "code",
      "source": [
        "import numpy as np\n",
        "import pandas as pd\n",
        "\n",
        "# Read data from Excel file\n",
        "data = pd.read_excel(\"/content/Data.xlsx\")\n",
        "original_results = data['hard.Rate'].values\n",
        "ep_values = data['t.strain'].values\n",
        "\n",
        "# Define function to calculate MSE\n",
        "def calculate_mse(b0, d1, d2, ee, ei, ep_values, original_results):\n",
        "    calculated_results = []\n",
        "    for ep in ep_values:\n",
        "        if abs((ep - ei) / (ei + ee)) < 1:\n",
        "            result = b0 - d1 * ((abs((ep - ei) / (ei + ee)) * np.arctanh((ep - ei) / (ei + ee))) - (d2 * ((ep - ei) / (ei + ee))))\n",
        "            calculated_results.append(result)\n",
        "        else:\n",
        "            calculated_results.append(None)\n",
        "    mse = np.mean((np.array(original_results) - np.array(calculated_results)) ** 2)\n",
        "    return mse\n",
        "\n",
        "# Initialize variables to store best parameters\n",
        "ee = 0.001;\n",
        "ei = 0.165;\n",
        "best_b0 = None\n",
        "best_d1 = None\n",
        "best_d2 = None\n",
        "min_mse = float('inf')\n",
        "\n",
        "# Nested loops to iterate over B0, D1, and D2 values\n",
        "for b0_value in range(1520, 6201, 10):\n",
        "    for d1_value in range(400, 10001, 20):\n",
        "        for d2_value in np.arange(0.05, 0.34, 0.1):\n",
        "            mse_value = calculate_mse(b0_value, d1_value, d2_value, ee, ei, ep_values, original_results)\n",
        "            if mse_value < min_mse:\n",
        "                min_mse = mse_value\n",
        "                best_b0 = b0_value\n",
        "                best_d1 = d1_value\n",
        "                best_d2 = d2_value\n",
        "\n",
        "print(\"Best B0 value:\", best_b0)\n",
        "print(\"Best D1 value:\", best_d1)\n",
        "print(\"Best D2 value:\", best_d2)\n",
        "print(\"Corresponding MSE:\", min_mse)\n"
      ],
      "metadata": {
        "colab": {
          "base_uri": "https://localhost:8080/"
        },
        "id": "evN1NfVPkAsd",
        "outputId": "14992472-fcb3-4091-dbf9-b3d40886fa13"
      },
      "execution_count": null,
      "outputs": [
        {
          "output_type": "stream",
          "name": "stdout",
          "text": [
            "Best B0 value: 2820\n",
            "Best D1 value: 720\n",
            "Best D2 value: 0.05\n",
            "Corresponding MSE: 9523.969478497303\n"
          ]
        }
      ]
    },
    {
      "cell_type": "markdown",
      "source": [
        "# Find the best d1, d2 and ei values"
      ],
      "metadata": {
        "id": "TWHHmXenHzSz"
      }
    },
    {
      "cell_type": "code",
      "source": [
        "import numpy as np\n",
        "import pandas as pd\n",
        "\n",
        "# Read data from Excel file\n",
        "data = pd.read_excel(\"/content/Data.xlsx\")\n",
        "original_results = data['hard.Rate'].values\n",
        "ep_values = data['t.strain'].values\n",
        "\n",
        "# Define function to calculate MSE\n",
        "def calculate_mse(b0, d1, d2, ee, ei, ep_values, original_results):\n",
        "    calculated_results = []\n",
        "    for ep in ep_values:\n",
        "        if abs((ep - ei) / (ei + ee)) < 1:\n",
        "            result = b0 - d1 * ((abs((ep - ei) / (ei + ee)) * np.arctanh((ep - ei) / (ei + ee))) - (d2 * ((ep - ei) / (ei + ee))))\n",
        "            calculated_results.append(result)\n",
        "        else:\n",
        "            calculated_results.append(None)  # Handle cases where the condition is not met\n",
        "    valid_calculated_results = [result for result in calculated_results if result is not None]  # Filter out None values\n",
        "    mse = np.mean((np.array(original_results[:len(valid_calculated_results)]) - np.array(valid_calculated_results)) ** 2)\n",
        "    return mse\n",
        "\n",
        "# Initialize variables to store best parameters\n",
        "ee = 0.001;\n",
        "b0 = 2880;\n",
        "best_d1 = None\n",
        "best_d2 = None\n",
        "best_ei = None\n",
        "min_mse = float('inf')\n",
        "\n",
        "# Nested loops to iterate over D1, D2, and Ei value\n",
        "for d1_value in range(400, 10001, 20):\n",
        "    for d2_value in np.arange(0.05, 0.34, 0.05):\n",
        "        for ei_value in np.arange(0.09, 0.285, 0.5):\n",
        "            mse_value = calculate_mse(b0, d1_value, d2_value, ee, ei_value, ep_values, original_results)\n",
        "            if mse_value < min_mse:\n",
        "                    min_mse = mse_value\n",
        "                    best_d1 = d1_value\n",
        "                    best_d2 = d2_value\n",
        "                    best_ei = ei_value\n",
        "\n",
        "print(\"Best D1 value:\", best_d1)\n",
        "print(\"Best D2 value:\", best_d2)\n",
        "print(\"Best Ei value:\", best_ei)\n",
        "print(\"Corresponding MSE:\", min_mse)\n"
      ],
      "metadata": {
        "colab": {
          "base_uri": "https://localhost:8080/"
        },
        "id": "e0uzaiXlCRQf",
        "outputId": "a6fb0867-bf61-4e94-f33c-d848bab7100f"
      },
      "execution_count": null,
      "outputs": [
        {
          "output_type": "stream",
          "name": "stdout",
          "text": [
            "Best D1 value: 440\n",
            "Best D2 value: 0.05\n",
            "Best Ei value: 0.09\n",
            "Corresponding MSE: 151741.59449007924\n"
          ]
        }
      ]
    },
    {
      "cell_type": "markdown",
      "source": [
        "# Find the best b0, d1, d2 and ei values - using for loops"
      ],
      "metadata": {
        "id": "isJheO9D8pXy"
      }
    },
    {
      "cell_type": "code",
      "source": [
        "import numpy as np\n",
        "import pandas as pd\n",
        "\n",
        "# Read data from Excel file\n",
        "data = pd.read_excel(\"/content/Data.xlsx\")\n",
        "original_results = data['hard.Rate'].values\n",
        "ep_values = data['t.strain'].values\n",
        "\n",
        "# Define function to calculate MSE\n",
        "def calculate_mse(b0, d1, d2, ee, ei, ep_values, original_results):\n",
        "    calculated_results = []\n",
        "    for ep in ep_values:\n",
        "        if abs((ep - ei) / (ei + ee)) < 1:\n",
        "            result = b0 - d1 * ((abs((ep - ei) / (ei + ee)) * np.arctanh((ep - ei) / (ei + ee))) - (d2 * ((ep - ei) / (ei + ee))))\n",
        "            calculated_results.append(result)\n",
        "        else:\n",
        "            calculated_results.append(None)  # Handle cases where the condition is not met\n",
        "    valid_results = [result for result in calculated_results if result is not None]  # Filter out None values\n",
        "    mse = np.mean((np.array(original_results[:len(valid_results)]) - np.array(valid_results)) ** 2)\n",
        "    return mse\n",
        "\n",
        "# Initialize variables to store best parameters\n",
        "ee = 0.001;\n",
        "best_b0 = None\n",
        "best_d1 = None\n",
        "best_d2 = None\n",
        "best_ei = None\n",
        "min_mse = float('inf')\n",
        "\n",
        "# Nested loops to iterate over B0, D1, D2, and Ei values\n",
        "for b0_value in range(1520, 6201, 10):\n",
        "    for d1_value in range(400, 10001, 20):\n",
        "        for d2_value in np.arange(0.05, 0.34, 0.05):\n",
        "            for ei_value in np.arange(0.09, 0.285, 0.1):\n",
        "                mse_value = calculate_mse(b0_value, d1_value, d2_value, ee, ei_value, ep_values, original_results)\n",
        "                if mse_value < min_mse:\n",
        "                    min_mse = mse_value\n",
        "                    best_b0 = b0_value\n",
        "                    best_d1 = d1_value\n",
        "                    best_d2 = d2_value\n",
        "                    best_ei = ei_value\n",
        "\n",
        "print(\"Best B0 value:\", best_b0)\n",
        "print(\"Best D1 value:\", best_d1)\n",
        "print(\"Best D2 value:\", best_d2)\n",
        "print(\"Best Ei value:\", best_ei)\n",
        "print(\"Corresponding MSE:\", min_mse)\n"
      ],
      "metadata": {
        "id": "Uux-u7aIlk9S",
        "colab": {
          "base_uri": "https://localhost:8080/"
        },
        "outputId": "1d0aeb9a-f1c9-4642-cf25-0df93d3f64ca"
      },
      "execution_count": null,
      "outputs": [
        {
          "output_type": "stream",
          "name": "stdout",
          "text": [
            "Best B0 value: 2700\n",
            "Best D1 value: 800\n",
            "Best D2 value: 0.05\n",
            "Best Ei value: 0.19\n",
            "Corresponding MSE: 19082.465465563444\n"
          ]
        }
      ]
    },
    {
      "cell_type": "markdown",
      "source": [
        "# Determine b0 using interpolation"
      ],
      "metadata": {
        "id": "q7D6musKKKZg"
      }
    },
    {
      "cell_type": "code",
      "source": [
        "import numpy as np\n",
        "import pandas as pd\n",
        "from scipy.interpolate import make_interp_spline\n",
        "import matplotlib.pyplot as plt\n",
        "\n",
        "# Read Excel file\n",
        "file_path = '/content/Data.xlsx'\n",
        "df = pd.read_excel(file_path)\n",
        "\n",
        "# Extract x and y columns\n",
        "x = df['t.strain'].values\n",
        "y = df['hard.Rate'].values\n",
        "\n",
        "\n",
        "# Check for and handle NaN or infinite values\n",
        "mask = np.isfinite(x) & np.isfinite(y)\n",
        "x = x[mask]\n",
        "y = y[mask]\n",
        "\n",
        "# Set the value of k for spline interpolation\n",
        "k_value = 5\n",
        "\n",
        "# Perform cubic spline interpolation\n",
        "spline_interp = make_interp_spline(x, y, k=k_value)\n",
        "\n",
        "\n",
        "# Perform cubic spline interpolation\n",
        "spline_interp = make_interp_spline(x, y, k=k_value)\n",
        "\n",
        "# Generate new x values for interpolation\n",
        "x_new = np.linspace(min(x), max(x), 100)\n",
        "\n",
        "# Perform interpolation\n",
        "y_new = spline_interp(x_new)\n",
        "\n",
        "# Fit cubic polynomial to the entire dataset\n",
        "coefficients = np.polyfit(x, y, k_value)\n",
        "\n",
        "# Print the coefficients\n",
        "print(\"Cubic Polynomial Coefficients:\", coefficients)\n",
        "\n",
        "# Generate y values for the cubic polynomial\n",
        "y_cubic = np.polyval(coefficients, x_new)\n",
        "\n",
        "# Dynamic equation print\n",
        "cubic_equation = \"Polynomial Equation: \"\n",
        "for i, coef in enumerate(coefficients):\n",
        "    cubic_equation += f\"{coef:.6f} x^{k_value-i} + \" if i < k_value else f\"{coef:.6f}\"\n",
        "print()\n",
        "\n",
        "# Remove the trailing ' + ' at the end\n",
        "cubic_equation = cubic_equation.rstrip(' + ')\n",
        "print(cubic_equation)\n",
        "print()\n",
        "\n",
        "# Take the derivative of the polynomial\n",
        "derivative_coefficients = np.polyder(coefficients)\n",
        "\n",
        "# Dynamic equation print for the derivative\n",
        "derivative_equation = \"Derivative Equation: \"\n",
        "for i, coef in enumerate(derivative_coefficients):\n",
        "    derivative_equation += f\"{coef:.6f} x^{k_value-1 -i} + \" if i < k_value-1 else f\"{coef:.6f}\"\n",
        "    # cubic_equation += f\"{coef:.6f} x^{k_value-i} + \" if i < k_value else f\"{coef:.6f}\"\n",
        "\n",
        "# Remove the trailing ' + ' at the end\n",
        "derivative_equation = derivative_equation.rstrip(' + ')\n",
        "print(derivative_equation)\n",
        "print()\n",
        "\n",
        "# Find the roots (zeros) of the derivative equation\n",
        "roots = np.roots(derivative_coefficients)\n",
        "print(\"Roots (Zeros) of the Derivative Equation:\", roots)\n",
        "print()\n",
        "\n",
        "# Calculate y values for each root using the original cubic polynomial\n",
        "y_roots = np.polyval(coefficients, roots)\n",
        "\n",
        "# Print the corresponding y values for the roots\n",
        "for i, root in enumerate(roots):\n",
        "    print(f\"For x = {root:.6f}, y = {y_roots[i]:.6f}\")\n",
        "print()\n",
        "\n",
        "# Plot the original data, interpolated curve, and cubic polynomial\n",
        "plt.scatter(x, y, label='Original Data')\n",
        "plt.plot(x_new, y_new, label='Interpolated Curve', color='red')\n",
        "plt.plot(x_new, y_cubic, label='Polynomial', linestyle='dashed', color='green')\n",
        "plt.xlabel('X-axis')\n",
        "plt.ylabel('Y-axis')\n",
        "plt.legend()\n",
        "plt.title('Interpolation and Polynomial Fit')\n",
        "plt.show()\n"
      ],
      "metadata": {
        "colab": {
          "base_uri": "https://localhost:8080/",
          "height": 742
        },
        "id": "aDojab6fKRWR",
        "outputId": "c5d4721f-2899-4619-e9d5-fb4ef681f414"
      },
      "execution_count": null,
      "outputs": [
        {
          "output_type": "stream",
          "name": "stdout",
          "text": [
            "Cubic Polynomial Coefficients: [ 7.31356743e+00  1.95938002e+06 -1.56997104e+06  4.20104939e+05\n",
            " -4.54570942e+04  4.55780103e+03]\n",
            "\n",
            "Polynomial Equation: 7.313567 x^5 + 1959380.017111 x^4 + -1569971.044005 x^3 + 420104.939062 x^2 + -45457.094188 x^1 + 4557.801026\n",
            "\n",
            "Derivative Equation: 36.567837 x^4 + 7837520.068442 x^3 + -4709913.132016 x^2 + 840209.878125 x^1 + -45457.094188\n",
            "\n",
            "Roots (Zeros) of the Derivative Equation: [-2.14328838e+05  3.28043639e-01  1.67079982e-01  1.05819510e-01]\n",
            "\n",
            "For x = -214328.838110, y = 826940678179840432906698752.000000\n",
            "For x = 0.328044, y = 2122.522092\n",
            "For x = 0.167080, y = 2894.690659\n",
            "For x = 0.105820, y = 2837.153082\n",
            "\n"
          ]
        },
        {
          "output_type": "display_data",
          "data": {
            "text/plain": [
              "<Figure size 640x480 with 1 Axes>"
            ],
            "image/png": "[encoded data removed]"
          },
          "metadata": {}
        }
      ]
    },
    {
      "cell_type": "code",
      "source": [
        "b0_values = y_roots\n",
        "b0_values\n",
        "\n",
        "# Calculate the median of b0\n",
        "median_b0 = np.median(b0_values)\n",
        "\n",
        "# Find the index of the value farthest from the median\n",
        "idx_odd_one_out = np.argmax(np.abs(b0_values - median_b0))\n",
        "\n",
        "# Remove the odd one out\n",
        "b0_filtered = np.delete(b0_values, idx_odd_one_out)\n",
        "\n",
        "print(\"Filtered b0 array:\", b0_filtered,'\\n')\n",
        "\n",
        "# Sort the b0 values from lowest to highest\n",
        "b0_sorted = np.sort(b0_filtered)\n",
        "\n",
        "# Calculate the average of the b0 values\n",
        "b0_average = np.mean(b0_filtered)\n",
        "\n",
        "print(\"Average of the b0 values:\", b0_average)\n",
        "\n"
      ],
      "metadata": {
        "colab": {
          "base_uri": "https://localhost:8080/"
        },
        "id": "AAlJW9UrKc4S",
        "outputId": "5bb97535-7829-4f57-ee43-c05d1c0ecef1"
      },
      "execution_count": null,
      "outputs": [
        {
          "output_type": "stream",
          "name": "stdout",
          "text": [
            "Filtered b0 array: [2122.52209199 2894.69065938 2837.15308152] \n",
            "\n",
            "Average of the b0 values: 2618.121944295937\n"
          ]
        }
      ]
    },
    {
      "cell_type": "markdown",
      "source": [
        "# Determine the optimal values for b0, d1, d2, and ei, utilizing the previously determined value for b0."
      ],
      "metadata": {
        "id": "ChVuSQOMSqTg"
      }
    },
    {
      "cell_type": "code",
      "source": [
        "import numpy as np\n",
        "import pandas as pd\n",
        "\n",
        "# Read data from Excel file\n",
        "data = pd.read_excel(\"/content/Data.xlsx\")\n",
        "original_results = data['hard.Rate'].values\n",
        "ep_values = data['t.strain'].values\n",
        "\n",
        "# Define function to calculate MSE\n",
        "def calculate_mse(b0, d1, d2, ee, ei, ep_values, original_results):\n",
        "    calculated_results = []\n",
        "    for ep in ep_values:\n",
        "        if abs((ep - ei) / (ei + ee)) < 1:\n",
        "            result = b0 - d1 * ((abs((ep - ei) / (ei + ee)) * np.arctanh((ep - ei) / (ei + ee))) - (d2 * ((ep - ei) / (ei + ee))))\n",
        "            calculated_results.append(result)\n",
        "        else:\n",
        "            calculated_results.append(None)  # Handle cases where the condition is not met\n",
        "    mse = np.mean((np.array(original_results) - np.array(calculated_results)) ** 2)\n",
        "    return mse\n",
        "\n",
        "# Iterate over B0 values and find the one with least MSE\n",
        "d1 = 560;\n",
        "d2 = 0.05;\n",
        "ee = 0.001;\n",
        "ei = 0.165;\n",
        "ep = 0.04;\n",
        "best_b0 = None\n",
        "min_mse = float('inf')\n",
        "count=0\n",
        "for b0 in range(int(b0_sorted[0]), int(b0_sorted[-1]), 10):\n",
        "    count+=1\n",
        "    mse = calculate_mse(b0, d1, d2, ee, ei, ep_values, original_results)\n",
        "    if mse < min_mse:\n",
        "        min_mse = mse\n",
        "        best_b0 = b0\n",
        "print(\"Count:\", count)\n",
        "print(\"Best B0 value:\", best_b0)\n",
        "print(\"Corresponding MSE:\", min_mse)\n"
      ],
      "metadata": {
        "colab": {
          "base_uri": "https://localhost:8080/"
        },
        "id": "eu8QIqygNuuf",
        "outputId": "1fcc5ff5-90fc-4554-a63d-516fbe6c1061"
      },
      "execution_count": null,
      "outputs": [
        {
          "output_type": "stream",
          "name": "stdout",
          "text": [
            "Count: 78\n",
            "Best B0 value: 2832\n",
            "Corresponding MSE: 19546.682721799163\n"
          ]
        }
      ]
    },
    {
      "cell_type": "code",
      "source": [
        "import numpy as np\n",
        "import pandas as pd\n",
        "\n",
        "# Read data from Excel file\n",
        "data = pd.read_excel(\"/content/Data.xlsx\")\n",
        "original_results = data['hard.Rate'].values\n",
        "ep_values = data['t.strain'].values\n",
        "\n",
        "# Define function to calculate MSE\n",
        "def calculate_mse(b0, d1, d2, ee, ei, ep_values, original_results):\n",
        "    calculated_results = []\n",
        "    for ep in ep_values:\n",
        "        if abs((ep - ei) / (ei + ee)) < 1:\n",
        "            result = b0 - d1 * ((abs((ep - ei) / (ei + ee)) * np.arctanh((ep - ei) / (ei + ee))) - (d2 * ((ep - ei) / (ei + ee))))\n",
        "            calculated_results.append(result)\n",
        "        else:\n",
        "            calculated_results.append(None)  # Handle cases where the condition is not met\n",
        "    valid_results = [result for result in calculated_results if result is not None]  # Filter out None values\n",
        "    mse = np.mean((np.array(original_results[:len(valid_results)]) - np.array(valid_results)) ** 2)\n",
        "    euclidean_distance = np.sqrt(np.sum([(x - y) ** 2 for x, y in zip(original_results, valid_results)]))\n",
        "    # print(\"--------------------------------------------------\")\n",
        "    # a = np.array(original_results[:len(valid_results)])\n",
        "    # b = np.array(valid_results)\n",
        "\n",
        "    # # Perform the subtraction\n",
        "    # c = a - b\n",
        "\n",
        "    # # Print the values and result\n",
        "    # for i in range(len(a)):\n",
        "    #     print(f\"{a[i]} - {b[i]} = {c[i]}\")\n",
        "    # return mse\n",
        "    return euclidean_distance\n",
        "\n",
        "# Initialize variables to store best parameters\n",
        "ee = 0.001;\n",
        "best_b0 = None\n",
        "best_d1 = None\n",
        "best_d2 = None\n",
        "best_ei = None\n",
        "min_mse = float('inf')\n",
        "\n",
        "# Nested loops to iterate over B0, D1, D2, and Ei values\n",
        "for b0_value in range(int(b0_sorted[0]), int(b0_sorted[-1]), 10):\n",
        "    for d1_value in range(400, 10001, 20):\n",
        "        for d2_value in np.arange(0.05, 0.34, 0.05):\n",
        "            for ei_value in np.arange(0.09, 0.285, 0.1):\n",
        "                mse_value = calculate_mse(b0_value, d1_value, d2_value, ee, ei_value, ep_values, original_results)\n",
        "                if mse_value < min_mse:\n",
        "                    min_mse = mse_value\n",
        "                    best_b0 = b0_value\n",
        "                    best_d1 = d1_value\n",
        "                    best_d2 = d2_value\n",
        "                    best_ei = ei_value\n",
        "\n",
        "print(\"Best B0 value:\", best_b0)\n",
        "print(\"Best D1 value:\", best_d1)\n",
        "print(\"Best D2 value:\", best_d2)\n",
        "print(\"Best Ei value:\", best_ei)\n",
        "print(\"Corresponding MSE:\", min_mse)\n"
      ],
      "metadata": {
        "colab": {
          "base_uri": "https://localhost:8080/"
        },
        "id": "OweQnGRPPhjn",
        "outputId": "a2026b08-14ea-4bae-e197-958e335a3711"
      },
      "execution_count": null,
      "outputs": [
        {
          "output_type": "stream",
          "name": "stdout",
          "text": [
            "Best B0 value: 2702\n",
            "Best D1 value: 800\n",
            "Best D2 value: 0.05\n",
            "Best Ei value: 0.19\n",
            "Corresponding MSE: 1105.208246291562\n"
          ]
        }
      ]
    },
    {
      "cell_type": "markdown",
      "source": [
        "###Test for given parameter values"
      ],
      "metadata": {
        "id": "vBL7HExhnxeE"
      }
    },
    {
      "cell_type": "code",
      "source": [
        "import numpy as np\n",
        "import pandas as pd\n",
        "\n",
        "# Read data from Excel file\n",
        "data = pd.read_excel(\"/content/Data.xlsx\")\n",
        "original_results = data['hard.Rate'].values\n",
        "ep_values = data['t.strain'].values\n",
        "\n",
        "# Define function to calculate MSE\n",
        "def calculate_mse(b0, d1, d2, ee, ei, ep_values, original_results):\n",
        "    calculated_results = []\n",
        "    for ep in ep_values:\n",
        "        if abs((ep - ei) / (ei + ee)) < 1:\n",
        "            result = b0 - d1 * ((abs((ep - ei) / (ei + ee)) * np.arctanh((ep - ei) / (ei + ee))) - (d2 * ((ep - ei) / (ei + ee))))\n",
        "            calculated_results.append(result)\n",
        "        else:\n",
        "            calculated_results.append(None)  # Handle cases where the condition is not met\n",
        "    valid_results = [result for result in calculated_results if result is not None]  # Filter out None values\n",
        "    # mse = np.mean((np.array(original_results[:len(valid_results)]) - np.array(valid_results)) ** 2)\n",
        "    euclidean_distance = np.sqrt(np.sum([(x - y) ** 2 for x, y in zip(original_results, valid_results)]))\n",
        "    # print(\"--------------------------------------------------\")\n",
        "    # a = np.array(original_results[:len(valid_results)])\n",
        "    # b = np.array(valid_results)\n",
        "\n",
        "    # # Perform the subtraction\n",
        "    # c = a - b\n",
        "\n",
        "    # # Print the values and result\n",
        "    # for i in range(len(a)):\n",
        "    #     print(f\"{a[i]} - {b[i]} = {c[i]}\")\n",
        "    # return mse\n",
        "    return euclidean_distance\n",
        "\n",
        "# Initialize variables to store best parameters\n",
        "ee = 0.001;\n",
        "best_b0 = 2802\n",
        "best_d1 = 1050\n",
        "best_d2 = 0.33\n",
        "best_ei = 0.165\n",
        "min_mse = float('inf')\n",
        "\n",
        "# # Nested loops to iterate over B0, D1, D2, and Ei values\n",
        "# for b0_value in range(int(b0_sorted[0]), int(b0_sorted[-1]), 10):\n",
        "#     for d1_value in range(400, 10001, 20):\n",
        "#         for d2_value in np.arange(0.05, 0.34, 0.05):\n",
        "#             for ei_value in np.arange(0.09, 0.285, 0.1):\n",
        "#                 mse_value = calculate_mse(b0_value, d1_value, d2_value, ee, ei_value, ep_values, original_results)\n",
        "#                 if mse_value < min_mse:\n",
        "#                     min_mse = mse_value\n",
        "#                     best_b0 = b0_value\n",
        "#                     best_d1 = d1_value\n",
        "#                     best_d2 = d2_value\n",
        "#                     best_ei = ei_value\n",
        "\n",
        "# print(\"Best B0 value:\", best_b0)\n",
        "# print(\"Best D1 value:\", best_d1)\n",
        "# print(\"Best D2 value:\", best_d2)\n",
        "# print(\"Best Ei value:\", best_ei)\n",
        "# print(\"Corresponding MSE:\", min_mse)\n",
        "\n",
        "\n",
        "print(calculate_mse(best_b0, best_d1, best_d2, ee, best_ei, ep_values, original_results))"
      ],
      "metadata": {
        "colab": {
          "base_uri": "https://localhost:8080/"
        },
        "id": "DxRavgRGnxJ1",
        "outputId": "aadd0e3a-619e-4a84-c0c5-d825c5f7b45d"
      },
      "execution_count": null,
      "outputs": [
        {
          "output_type": "stream",
          "name": "stdout",
          "text": [
            "1206.1978782862432\n"
          ]
        }
      ]
    },
    {
      "cell_type": "markdown",
      "source": [
        "# New Data"
      ],
      "metadata": {
        "id": "EEspZ2sc35zB"
      }
    },
    {
      "cell_type": "code",
      "source": [
        "import numpy as np\n",
        "import pandas as pd\n",
        "from scipy.interpolate import make_interp_spline\n",
        "import matplotlib.pyplot as plt\n",
        "\n",
        "# Read Excel file\n",
        "file_path = '/content/Data.xlsx'\n",
        "df = pd.read_excel(file_path)\n",
        "\n",
        "# Extract x and y columns\n",
        "x = df['t.strain.2'].values\n",
        "y = df['hard.Rate.2'].values\n",
        "\n",
        "\n",
        "# Check for and handle NaN or infinite values\n",
        "mask = np.isfinite(x) & np.isfinite(y)\n",
        "x = x[mask]\n",
        "y = y[mask]\n",
        "\n",
        "# Set the value of k for spline interpolation\n",
        "k_value = 3\n",
        "\n",
        "# Perform cubic spline interpolation\n",
        "spline_interp = make_interp_spline(x, y, k=k_value)\n",
        "\n",
        "\n",
        "# Perform cubic spline interpolation\n",
        "spline_interp = make_interp_spline(x, y, k=k_value)\n",
        "\n",
        "# Generate new x values for interpolation\n",
        "x_new = np.linspace(min(x), max(x), 100)\n",
        "\n",
        "# Perform interpolation\n",
        "y_new = spline_interp(x_new)\n",
        "\n",
        "# Fit cubic polynomial to the entire dataset\n",
        "coefficients = np.polyfit(x, y, k_value)\n",
        "\n",
        "# Print the coefficients\n",
        "print(\"Cubic Polynomial Coefficients:\", coefficients)\n",
        "\n",
        "# Generate y values for the cubic polynomial\n",
        "y_cubic = np.polyval(coefficients, x_new)\n",
        "\n",
        "# Dynamic equation print\n",
        "cubic_equation = \"Polynomial Equation: \"\n",
        "for i, coef in enumerate(coefficients):\n",
        "    cubic_equation += f\"{coef:.6f} x^{k_value-i} + \" if i < k_value else f\"{coef:.6f}\"\n",
        "print()\n",
        "\n",
        "# Remove the trailing ' + ' at the end\n",
        "cubic_equation = cubic_equation.rstrip(' + ')\n",
        "print(cubic_equation)\n",
        "print()\n",
        "\n",
        "# Take the derivative of the polynomial\n",
        "derivative_coefficients = np.polyder(coefficients)\n",
        "\n",
        "# Dynamic equation print for the derivative\n",
        "derivative_equation = \"Derivative Equation: \"\n",
        "for i, coef in enumerate(derivative_coefficients):\n",
        "    derivative_equation += f\"{coef:.6f} x^{k_value-1 -i} + \" if i < k_value-1 else f\"{coef:.6f}\"\n",
        "    # cubic_equation += f\"{coef:.6f} x^{k_value-i} + \" if i < k_value else f\"{coef:.6f}\"\n",
        "\n",
        "# Remove the trailing ' + ' at the end\n",
        "derivative_equation = derivative_equation.rstrip(' + ')\n",
        "print(derivative_equation)\n",
        "print()\n",
        "\n",
        "# Find the roots (zeros) of the derivative equation\n",
        "roots = np.roots(derivative_coefficients)\n",
        "print(\"Roots (Zeros) of the Derivative Equation:\", roots)\n",
        "print()\n",
        "\n",
        "# Calculate y values for each root using the original cubic polynomial\n",
        "y_roots = np.polyval(coefficients, roots)\n",
        "\n",
        "# Print the corresponding y values for the roots\n",
        "for i, root in enumerate(roots):\n",
        "    print(f\"For x = {root:.6f}, y = {y_roots[i]:.6f}\")\n",
        "print()\n",
        "\n",
        "# Plot the original data, interpolated curve, and cubic polynomial\n",
        "plt.scatter(x, y, label='Original Data')\n",
        "plt.plot(x_new, y_new, label='Interpolated Curve', color='red')\n",
        "plt.plot(x_new, y_cubic, label='Polynomial', linestyle='dashed', color='green')\n",
        "plt.xlabel('X-axis')\n",
        "plt.ylabel('Y-axis')\n",
        "plt.legend()\n",
        "plt.title('Interpolation and Polynomial Fit')\n",
        "plt.show()\n"
      ],
      "metadata": {
        "colab": {
          "base_uri": "https://localhost:8080/",
          "height": 688
        },
        "id": "GCcNTOEN4gSo",
        "outputId": "28d2cb18-fa19-4c0c-be38-c971417419ab"
      },
      "execution_count": null,
      "outputs": [
        {
          "output_type": "stream",
          "name": "stdout",
          "text": [
            "Cubic Polynomial Coefficients: [-1508842.01600001   448709.1841665    -42265.50636369     3887.16179541]\n",
            "\n",
            "Polynomial Equation: -1508842.016000 x^3 + 448709.184167 x^2 + -42265.506364 x^1 + 3887.161795\n",
            "\n",
            "Derivative Equation: -4526526.048000 x^2 + 897418.368333 x^1 + -42265.506364\n",
            "\n",
            "Roots (Zeros) of the Derivative Equation: [0.12124733 0.07701031]\n",
            "\n",
            "For x = 0.121247, y = 2669.587122\n",
            "For x = 0.077010, y = 2604.278376\n",
            "\n"
          ]
        },
        {
          "output_type": "display_data",
          "data": {
            "text/plain": [
              "<Figure size 640x480 with 1 Axes>"
            ],
            "image/png": "[encoded data removed]"
          },
          "metadata": {}
        }
      ]
    },
    {
      "cell_type": "code",
      "source": [
        "b0_values = y_roots\n",
        "b0_values\n",
        "\n",
        "# Calculate the median of b0\n",
        "median_b0 = np.median(b0_values)\n",
        "\n",
        "# Find the index of the value farthest from the median\n",
        "idx_odd_one_out = np.argmax(np.abs(b0_values - median_b0))\n",
        "\n",
        "# Remove the odd one out\n",
        "b0_filtered = np.delete(b0_values, idx_odd_one_out)\n",
        "\n",
        "print(\"Filtered b0 array:\", b0_filtered,'\\n')\n",
        "\n",
        "# Sort the b0 values from lowest to highest\n",
        "b0_sorted = np.sort(b0_filtered)\n",
        "\n",
        "# Calculate the average of the b0 values\n",
        "b0_average = np.mean(b0_filtered)\n",
        "\n",
        "print(\"Average of the b0 values:\", b0_average)\n"
      ],
      "metadata": {
        "colab": {
          "base_uri": "https://localhost:8080/"
        },
        "id": "3V-5sDP74j9u",
        "outputId": "a4fdf4b7-a5d5-4e14-9054-d46f25b6d13c"
      },
      "execution_count": null,
      "outputs": [
        {
          "output_type": "stream",
          "name": "stdout",
          "text": [
            "Filtered b0 array: [2604.2783756] \n",
            "\n",
            "Average of the b0 values: 2604.27837559552\n"
          ]
        }
      ]
    },
    {
      "cell_type": "code",
      "source": [
        "import numpy as np\n",
        "import pandas as pd\n",
        "\n",
        "# Read data from Excel file\n",
        "data = pd.read_excel(\"/content/Data.xlsx\")\n",
        "original_results = data['hard.Rate.2'].values\n",
        "ep_values = data['t.strain.2'].values\n",
        "\n",
        "# Define function to calculate MSE\n",
        "def calculate_mse(b0, d1, d2, ee, ei, ep_values, original_results):\n",
        "    calculated_results = []\n",
        "    for ep in ep_values:\n",
        "        if abs((ep - ei) / (ei + ee)) < 1:\n",
        "            result = b0 - d1 * ((abs((ep - ei) / (ei + ee)) * np.arctanh((ep - ei) / (ei + ee))) - (d2 * ((ep - ei) / (ei + ee))))\n",
        "            calculated_results.append(result)\n",
        "        else:\n",
        "            calculated_results.append(None)  # Handle cases where the condition is not met\n",
        "    valid_results = [result for result in calculated_results if result is not None]  # Filter out None values\n",
        "    mse = np.mean((np.array(original_results[:len(valid_results)]) - np.array(valid_results)) ** 2)\n",
        "    euclidean_distance = np.sqrt(np.sum([(x - y) ** 2 for x, y in zip(original_results, valid_results)]))\n",
        "    return euclidean_distance\n",
        "\n",
        "# Initialize variables to store best parameters\n",
        "ee = 0.01;\n",
        "best_b0 = None\n",
        "best_d1 = None\n",
        "best_d2 = None\n",
        "best_ei = None\n",
        "min_mse = float('inf')\n",
        "\n",
        "# Nested loops to iterate over B0, D1, D2, and Ei values\n",
        "for b0_value in range(2500,2700, 10):\n",
        "    for d1_value in range(400, 10001, 20):\n",
        "        for d2_value in np.arange(0.05, 0.34, 0.05):\n",
        "            for ei_value in np.arange(0.09, 0.285, 0.1):\n",
        "                mse_value = calculate_mse(b0_value, d1_value, d2_value, ee, ei_value, ep_values, original_results)\n",
        "                if mse_value < min_mse:\n",
        "                    min_mse = mse_value\n",
        "                    best_b0 = b0_value\n",
        "                    best_d1 = d1_value\n",
        "                    best_d2 = d2_value\n",
        "                    best_ei = ei_value\n",
        "\n",
        "print(\"Best B0 value:\", best_b0)\n",
        "print(\"Best D1 value:\", best_d1)\n",
        "print(\"Best D2 value:\", best_d2)\n",
        "print(\"Best Ei value:\", best_ei)\n",
        "print(\"Corresponding MSE:\", min_mse)\n"
      ],
      "metadata": {
        "id": "7uQ1-Er0n-2t",
        "colab": {
          "base_uri": "https://localhost:8080/"
        },
        "outputId": "92030a24-15c5-4592-948c-fb2b91da1abf"
      },
      "execution_count": null,
      "outputs": [
        {
          "output_type": "stream",
          "name": "stdout",
          "text": [
            "Best B0 value: 2690\n",
            "Best D1 value: 580\n",
            "Best D2 value: 0.05\n",
            "Best Ei value: 0.09\n",
            "Corresponding MSE: 2028.6185378087716\n"
          ]
        }
      ]
    },
    {
      "cell_type": "code",
      "source": [
        "import numpy as np\n",
        "import pandas as pd\n",
        "\n",
        "# Read data from Excel file\n",
        "data = pd.read_excel(\"/content/Data.xlsx\")\n",
        "original_results = data['hard.Rate'].values\n",
        "ep_values = data['t.strain'].values\n",
        "\n",
        "# Define function to calculate MSE\n",
        "def calculate_mse(b0, d1, d2, ee, ei, ep_values, original_results):\n",
        "    calculated_results = []\n",
        "    for ep in ep_values:\n",
        "        if abs((ep - ei) / (ei + ee)) < 1:\n",
        "            result = b0 - d1 * ((abs((ep - ei) / (ei + ee)) * np.arctanh((ep - ei) / (ei + ee))) - (d2 * ((ep - ei) / (ei + ee))))\n",
        "            calculated_results.append(result)\n",
        "        else:\n",
        "            calculated_results.append(None)  # Handle cases where the condition is not met\n",
        "    valid_results = [result for result in calculated_results if result is not None]  # Filter out None values\n",
        "    # mse = np.mean((np.array(original_results[:len(valid_results)]) - np.array(valid_results)) ** 2)\n",
        "    euclidean_distance = np.sqrt(np.sum([(x - y) ** 2 for x, y in zip(original_results, valid_results)]))\n",
        "    return euclidean_distance\n",
        "\n",
        "# Initialize variables to store best parameters\n",
        "ee = 0.01;\n",
        "best_b0 = 2600\n",
        "best_d1 = 1600\n",
        "best_d2 = 0.4\n",
        "best_ei = 0.11\n",
        "min_mse = float('inf')\n",
        "\n",
        "\n",
        "print(calculate_mse(best_b0, best_d1, best_d2, ee, best_ei, ep_values, original_results))"
      ],
      "metadata": {
        "colab": {
          "base_uri": "https://localhost:8080/"
        },
        "id": "zPQ3YUK77Qj9",
        "outputId": "b4987919-b44e-4d43-d000-ee115691b042"
      },
      "execution_count": null,
      "outputs": [
        {
          "output_type": "stream",
          "name": "stdout",
          "text": [
            "4715.503807319997\n"
          ]
        }
      ]
    },
    {
      "cell_type": "markdown",
      "source": [
        "# New Data\n"
      ],
      "metadata": {
        "id": "AwYZYtAJ9Nlo"
      }
    },
    {
      "cell_type": "code",
      "source": [
        "import numpy as np\n",
        "import pandas as pd\n",
        "from scipy.interpolate import make_interp_spline\n",
        "import matplotlib.pyplot as plt\n",
        "\n",
        "# Read Excel file\n",
        "file_path = '/content/Data.xlsx'\n",
        "df = pd.read_excel(file_path)\n",
        "\n",
        "# Extract x and y columns\n",
        "x = df['t.strain.3'].values\n",
        "y = df['hard.Rate.3'].values\n",
        "\n",
        "\n",
        "# Check for and handle NaN or infinite values\n",
        "mask = np.isfinite(x) & np.isfinite(y)\n",
        "x = x[mask]\n",
        "y = y[mask]\n",
        "\n",
        "# Set the value of k for spline interpolation\n",
        "k_value = 5\n",
        "\n",
        "# Perform cubic spline interpolation\n",
        "spline_interp = make_interp_spline(x, y, k=k_value)\n",
        "\n",
        "\n",
        "# Perform cubic spline interpolation\n",
        "spline_interp = make_interp_spline(x, y, k=k_value)\n",
        "\n",
        "# Generate new x values for interpolation\n",
        "x_new = np.linspace(min(x), max(x), 100)\n",
        "\n",
        "# Perform interpolation\n",
        "y_new = spline_interp(x_new)\n",
        "\n",
        "# Fit cubic polynomial to the entire dataset\n",
        "coefficients = np.polyfit(x, y, k_value)\n",
        "\n",
        "# Print the coefficients\n",
        "print(\"Cubic Polynomial Coefficients:\", coefficients)\n",
        "\n",
        "# Generate y values for the cubic polynomial\n",
        "y_cubic = np.polyval(coefficients, x_new)\n",
        "\n",
        "# Dynamic equation print\n",
        "cubic_equation = \"Polynomial Equation: \"\n",
        "for i, coef in enumerate(coefficients):\n",
        "    cubic_equation += f\"{coef:.6f} x^{k_value-i} + \" if i < k_value else f\"{coef:.6f}\"\n",
        "print()\n",
        "\n",
        "# Remove the trailing ' + ' at the end\n",
        "cubic_equation = cubic_equation.rstrip(' + ')\n",
        "print(cubic_equation)\n",
        "print()\n",
        "\n",
        "# Take the derivative of the polynomial\n",
        "derivative_coefficients = np.polyder(coefficients)\n",
        "\n",
        "# Dynamic equation print for the derivative\n",
        "derivative_equation = \"Derivative Equation: \"\n",
        "for i, coef in enumerate(derivative_coefficients):\n",
        "    derivative_equation += f\"{coef:.6f} x^{k_value-1 -i} + \" if i < k_value-1 else f\"{coef:.6f}\"\n",
        "    # cubic_equation += f\"{coef:.6f} x^{k_value-i} + \" if i < k_value else f\"{coef:.6f}\"\n",
        "\n",
        "# Remove the trailing ' + ' at the end\n",
        "derivative_equation = derivative_equation.rstrip(' + ')\n",
        "print(derivative_equation)\n",
        "print()\n",
        "\n",
        "# Find the roots (zeros) of the derivative equation\n",
        "roots = np.roots(derivative_coefficients)\n",
        "print(\"Roots (Zeros) of the Derivative Equation:\", roots)\n",
        "print()\n",
        "\n",
        "# Calculate y values for each root using the original cubic polynomial\n",
        "y_roots = np.polyval(coefficients, roots)\n",
        "\n",
        "# Print the corresponding y values for the roots\n",
        "for i, root in enumerate(roots):\n",
        "    print(f\"For x = {root:.6f}, y = {y_roots[i]:.6f}\")\n",
        "print()\n",
        "\n",
        "# Plot the original data, interpolated curve, and cubic polynomial\n",
        "plt.scatter(x, y, label='Original Data')\n",
        "plt.plot(x_new, y_new, label='Interpolated Curve', color='red')\n",
        "plt.plot(x_new, y_cubic, label='Polynomial', linestyle='dashed', color='green')\n",
        "plt.xlabel('X-axis')\n",
        "plt.ylabel('Y-axis')\n",
        "plt.legend()\n",
        "plt.title('Interpolation and Polynomial Fit')\n",
        "plt.show()\n"
      ],
      "metadata": {
        "colab": {
          "base_uri": "https://localhost:8080/",
          "height": 760
        },
        "id": "9SDKD9029THT",
        "outputId": "eb4af356-8e4d-4d99-873a-b23b4157c5dd"
      },
      "execution_count": null,
      "outputs": [
        {
          "output_type": "stream",
          "name": "stdout",
          "text": [
            "Cubic Polynomial Coefficients: [-7.28378772e+06  8.73458976e+06 -3.99019028e+06  8.56219151e+05\n",
            " -8.52649213e+04  5.15950427e+03]\n",
            "\n",
            "Polynomial Equation: -7283787.720000 x^5 + 8734589.761400 x^4 + -3990190.282370 x^3 + 856219.150794 x^2 + -85264.921337 x^1 + 5159.504271\n",
            "\n",
            "Derivative Equation: -36418938.599999 x^4 + 34938359.045600 x^3 + -11970570.847109 x^2 + 1712438.301588 x^1 + -85264.921337\n",
            "\n",
            "Roots (Zeros) of the Derivative Equation: [0.32628233+0.00748978j 0.32628233-0.00748978j 0.19274421+0.j\n",
            " 0.11403703+0.j        ]\n",
            "\n",
            "For x = 0.326282+0.007490j, y = 1949.070700-0.289011j\n",
            "For x = 0.326282-0.007490j, y = 1949.070700+0.289011j\n",
            "For x = 0.192744+0.000000j, y = 2079.625948+0.000000j\n",
            "For x = 0.114037+0.000000j, y = 1990.079063+0.000000j\n",
            "\n"
          ]
        },
        {
          "output_type": "display_data",
          "data": {
            "text/plain": [
              "<Figure size 640x480 with 1 Axes>"
            ],
            "image/png": "[encoded data removed]"
          },
          "metadata": {}
        }
      ]
    },
    {
      "cell_type": "code",
      "source": [
        "b0_values = y_roots\n",
        "b0_values\n",
        "\n",
        "# Calculate the median of b0\n",
        "median_b0 = np.median(b0_values)\n",
        "\n",
        "# Find the index of the value farthest from the median\n",
        "idx_odd_one_out = np.argmax(np.abs(b0_values - median_b0))\n",
        "\n",
        "# Remove the odd one out\n",
        "b0_filtered = np.delete(b0_values, idx_odd_one_out)\n",
        "\n",
        "print(\"Filtered b0 array:\", b0_filtered,'\\n')\n",
        "\n",
        "# Sort the b0 values from lowest to highest\n",
        "b0_sorted = np.sort(b0_filtered)\n",
        "\n",
        "# Calculate the average of the b0 values\n",
        "b0_average = np.mean(b0_filtered)\n",
        "\n",
        "print(\"Average of the b0 values:\", b0_average)\n"
      ],
      "metadata": {
        "colab": {
          "base_uri": "https://localhost:8080/"
        },
        "id": "URKXV85u9TpT",
        "outputId": "a9f0175d-3be9-4444-87ea-0b20b56f6d78"
      },
      "execution_count": null,
      "outputs": [
        {
          "output_type": "stream",
          "name": "stdout",
          "text": [
            "Filtered b0 array: [1949.07070029-0.2890108j 1949.07070029+0.2890108j\n",
            " 1990.07906263+0.j       ] \n",
            "\n",
            "Average of the b0 values: (1962.7401544023617+0j)\n"
          ]
        }
      ]
    },
    {
      "cell_type": "code",
      "source": [
        "import numpy as np\n",
        "import pandas as pd\n",
        "\n",
        "# Read data from Excel file\n",
        "data = pd.read_excel(\"/content/Data.xlsx\")\n",
        "original_results = data['hard.Rate.2'].values\n",
        "ep_values = data['t.strain.2'].values\n",
        "\n",
        "# Define function to calculate MSE\n",
        "def calculate_mse(b0, d1, d2, ee, ei, ep_values, original_results):\n",
        "    calculated_results = []\n",
        "    for ep in ep_values:\n",
        "        if abs((ep - ei) / (ei + ee)) < 1:\n",
        "            result = b0 - d1 * ((abs((ep - ei) / (ei + ee)) * np.arctanh((ep - ei) / (ei + ee))) - (d2 * ((ep - ei) / (ei + ee))))\n",
        "            calculated_results.append(result)\n",
        "        else:\n",
        "            calculated_results.append(None)  # Handle cases where the condition is not met\n",
        "    valid_results = [result for result in calculated_results if result is not None]  # Filter out None values\n",
        "    mse = np.mean((np.array(original_results[:len(valid_results)]) - np.array(valid_results)) ** 2)\n",
        "    euclidean_distance = np.sqrt(np.sum([(x - y) ** 2 for x, y in zip(original_results, valid_results)]))\n",
        "    return euclidean_distance\n",
        "\n",
        "# Initialize variables to store best parameters\n",
        "ee = 0.001;\n",
        "best_b0 = None\n",
        "best_d1 = None\n",
        "best_d2 = None\n",
        "best_ei = None\n",
        "min_mse = float('inf')\n",
        "\n",
        "# Nested loops to iterate over B0, D1, D2, and Ei values\n",
        "for b0_value in range(int(b0_sorted[0]), int(b0_sorted[-1]), 10):\n",
        "    for d1_value in range(400, 10001, 20):\n",
        "        for d2_value in np.arange(0.05, 0.34, 0.05):\n",
        "            for ei_value in np.arange(0.09, 0.285, 0.1):\n",
        "                mse_value = calculate_mse(b0_value, d1_value, d2_value, ee, ei_value, ep_values, original_results)\n",
        "                if mse_value < min_mse:\n",
        "                    min_mse = mse_value\n",
        "                    best_b0 = b0_value\n",
        "                    best_d1 = d1_value\n",
        "                    best_d2 = d2_value\n",
        "                    best_ei = ei_value\n",
        "\n",
        "print(\"Best B0 value:\", best_b0)\n",
        "print(\"Best D1 value:\", best_d1)\n",
        "print(\"Best D2 value:\", best_d2)\n",
        "print(\"Best Ei value:\", best_ei)\n",
        "print(\"Corresponding MSE:\", min_mse)\n"
      ],
      "metadata": {
        "colab": {
          "base_uri": "https://localhost:8080/"
        },
        "id": "lZkllPIe9m0_",
        "outputId": "60de714d-95a4-4a90-cae5-972fb3425779"
      },
      "execution_count": null,
      "outputs": [
        {
          "output_type": "stream",
          "name": "stderr",
          "text": [
            "<ipython-input-26-2a8e525d32c3>:32: ComplexWarning: Casting complex values to real discards the imaginary part\n",
            "  for b0_value in range(int(b0_sorted[0]), int(b0_sorted[-1]), 10):\n"
          ]
        },
        {
          "output_type": "stream",
          "name": "stdout",
          "text": [
            "Best B0 value: 1989\n",
            "Best D1 value: 980\n",
            "Best D2 value: 0.05\n",
            "Best Ei value: 0.19\n",
            "Corresponding MSE: 5203.048534246907\n"
          ]
        }
      ]
    },
    {
      "cell_type": "code",
      "source": [
        "import numpy as np\n",
        "import pandas as pd\n",
        "\n",
        "# Read data from Excel file\n",
        "data = pd.read_excel(\"/content/Data.xlsx\")\n",
        "original_results = data['hard.Rate.3'].values\n",
        "ep_values = data['t.strain.3'].values\n",
        "\n",
        "# Define function to calculate MSE\n",
        "def calculate_mse(b0, d1, d2, ee, ei, ep_values, original_results):\n",
        "    calculated_results = []\n",
        "    for ep in ep_values:\n",
        "        if abs((ep - ei) / (ei + ee)) < 1:\n",
        "            result = b0 - d1 * ((abs((ep - ei) / (ei + ee)) * np.arctanh((ep - ei) / (ei + ee))) - (d2 * ((ep - ei) / (ei + ee))))\n",
        "            calculated_results.append(result)\n",
        "        else:\n",
        "            calculated_results.append(None)  # Handle cases where the condition is not met\n",
        "    valid_results = [result for result in calculated_results if result is not None]  # Filter out None values\n",
        "    # mse = np.mean((np.array(original_results[:len(valid_results)]) - np.array(valid_results)) ** 2)\n",
        "    euclidean_distance = np.sqrt(np.sum([(x - y) ** 2 for x, y in zip(original_results, valid_results)]))\n",
        "    return euclidean_distance\n",
        "\n",
        "# Initialize variables to store best parameters\n",
        "ee = 0.001;\n",
        "best_b0 = 2100\n",
        "best_d1 = 450\n",
        "best_d2 = 0.05\n",
        "best_ei = 0.22\n",
        "min_mse = float('inf')\n",
        "\n",
        "\n",
        "print(calculate_mse(best_b0, best_d1, best_d2, ee, best_ei, ep_values, original_results))"
      ],
      "metadata": {
        "colab": {
          "base_uri": "https://localhost:8080/"
        },
        "id": "DplyjFQJ-C03",
        "outputId": "a0dd68f7-75bb-45f2-cbe1-0b9ed41266eb"
      },
      "execution_count": null,
      "outputs": [
        {
          "output_type": "stream",
          "name": "stdout",
          "text": [
            "5703.354344480219\n"
          ]
        }
      ]
    }
  ]
}