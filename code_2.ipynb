{
  "nbformat": 4,
  "nbformat_minor": 0,
  "metadata": {
    "colab": {
      "provenance": [],
      "mount_file_id": "1RU03HmQfBIIb5i-mLNosWbR3SqHn-yKG",
      "authorship_tag": "ABX9TyP+wzQjHmhNTHGRaJRcjwLZ",
      "include_colab_link": true
    },
    "kernelspec": {
      "name": "python3",
      "display_name": "Python 3"
    },
    "language_info": {
      "name": "python"
    }
  },
  "cells": [
    {
      "cell_type": "markdown",
      "metadata": {
        "id": "view-in-github",
        "colab_type": "text"
      },
      "source": [
        "<a href=\"https://colab.research.google.com/github/Kishan-Kumar-Zalavadia/Material-Science/blob/main/code_2.ipynb\" target=\"_parent\"><img src=\"https://colab.research.google.com/assets/colab-badge.svg\" alt=\"Open In Colab\"/></a>"
      ]
    },
    {
      "cell_type": "markdown",
      "source": [
        "# Method to solve the equation"
      ],
      "metadata": {
        "id": "ldvYdmfqYkPu"
      }
    },
    {
      "cell_type": "code",
      "source": [
        "import numpy as np\n",
        "\n",
        "def calculate(b0, d1, d2, ee, ei, ep):\n",
        "  if(abs((ep-ei)/(ei+ee))<1):\n",
        "    result = b0 - d1 * ((abs((ep-ei)/(ei+ee)) * np.arctanh((ep-ei)/(ei+ee))) - (d2 * ((ep-ei)/(ei+ee))));\n",
        "  return result;"
      ],
      "metadata": {
        "id": "73Et8mcMYj4r"
      },
      "execution_count": 1,
      "outputs": []
    },
    {
      "cell_type": "code",
      "source": [
        "b0 = 2775;\n",
        "d1 = 560;\n",
        "d2 = 0.05;\n",
        "ee = 0.001;\n",
        "ei = 0.165;\n",
        "ep = 0.04;\n",
        "print(calculate(b0, d1, d2, ee, ei, ep))"
      ],
      "metadata": {
        "colab": {
          "base_uri": "https://localhost:8080/"
        },
        "id": "0uxa0PgGaasn",
        "outputId": "a97bbc4c-5fb1-4193-9ab7-1ff6c2c51e54"
      },
      "execution_count": 2,
      "outputs": [
        {
          "output_type": "stream",
          "name": "stdout",
          "text": [
            "3167.1162169659724\n"
          ]
        }
      ]
    },
    {
      "cell_type": "markdown",
      "source": [
        "# Find the best b0 value"
      ],
      "metadata": {
        "id": "uVd6ChEmj0-k"
      }
    },
    {
      "cell_type": "code",
      "source": [
        "import numpy as np\n",
        "import pandas as pd\n",
        "\n",
        "# Read data from Excel file\n",
        "data = pd.read_excel(\"/content/Data.xlsx\")\n",
        "original_results = data['hard.Rate'].values\n",
        "ep_values = data['t.strain'].values\n",
        "\n",
        "# Define function to calculate MSE\n",
        "def calculate_mse(b0, d1, d2, ee, ei, ep_values, original_results):\n",
        "    calculated_results = []\n",
        "    for ep in ep_values:\n",
        "        if abs((ep - ei) / (ei + ee)) < 1:\n",
        "            result = b0 - d1 * ((abs((ep - ei) / (ei + ee)) * np.arctanh((ep - ei) / (ei + ee))) - (d2 * ((ep - ei) / (ei + ee))))\n",
        "            calculated_results.append(result)\n",
        "        else:\n",
        "            calculated_results.append(None)  # Handle cases where the condition is not met\n",
        "    mse = np.mean((np.array(original_results) - np.array(calculated_results)) ** 2)\n",
        "    return mse\n",
        "\n",
        "# Iterate over B0 values and find the one with least MSE\n",
        "best_b0 = None\n",
        "min_mse = float('inf')\n",
        "for b0 in range(1520, 6201, 10):\n",
        "    mse = calculate_mse(b0, d1, d2, ee, ei, ep_values, original_results)\n",
        "    if mse < min_mse:\n",
        "        min_mse = mse\n",
        "        best_b0 = b0\n",
        "\n",
        "print(\"Best B0 value:\", best_b0)\n",
        "print(\"Corresponding MSE:\", min_mse)\n"
      ],
      "metadata": {
        "colab": {
          "base_uri": "https://localhost:8080/"
        },
        "id": "_XZeZOeffGIR",
        "outputId": "1404b522-a131-4dcf-fcc1-3f9d3b05fe27"
      },
      "execution_count": 3,
      "outputs": [
        {
          "output_type": "stream",
          "name": "stdout",
          "text": [
            "Best B0 value: 2880\n",
            "Corresponding MSE: 149104.67497364077\n"
          ]
        }
      ]
    },
    {
      "cell_type": "markdown",
      "source": [
        "# Find the best d1 and d2 values.\n"
      ],
      "metadata": {
        "id": "TrdC0_S5j5UE"
      }
    },
    {
      "cell_type": "code",
      "source": [
        "import numpy as np\n",
        "import pandas as pd\n",
        "\n",
        "# Read data from Excel file\n",
        "data = pd.read_excel(\"/content/Data.xlsx\")\n",
        "original_results = data['hard.Rate'].values\n",
        "ep_values = data['t.strain'].values\n",
        "\n",
        "# Define function to calculate MSE\n",
        "def calculate_mse(b0, d1, d2, ee, ei, ep_values, original_results):\n",
        "    calculated_results = []\n",
        "    for ep in ep_values:\n",
        "        if abs((ep - ei) / (ei + ee)) < 1:\n",
        "            result = b0 - d1 * ((abs((ep - ei) / (ei + ee)) * np.arctanh((ep - ei) / (ei + ee))) - (d2 * ((ep - ei) / (ei + ee))))\n",
        "            calculated_results.append(result)\n",
        "        else:\n",
        "            calculated_results.append(None)  # Handle cases where the condition is not met\n",
        "    mse = np.mean((np.array(original_results) - np.array(calculated_results)) ** 2)\n",
        "    return mse\n",
        "\n",
        "# Initialize variables to store best parameters\n",
        "b0 = 2775;\n",
        "ee = 0.001;\n",
        "ei = 0.165;\n",
        "best_d1 = None\n",
        "best_d2 = None\n",
        "min_mse = float('inf')\n",
        "\n",
        "# Nested loops to iterate over d1 and d2 values\n",
        "for d1 in range(400, 10001, 10):\n",
        "    for d2 in np.arange(0.05, 0.34, 0.05):\n",
        "        mse = calculate_mse(b0, d1, d2, ee, ei, ep_values, original_results)\n",
        "        if mse < min_mse:\n",
        "            min_mse = mse\n",
        "            best_d1 = d1\n",
        "            best_d2 = d2\n",
        "\n",
        "print(\"Best d1 value:\", best_d1)\n",
        "print(\"Best d2 value:\", best_d2)\n",
        "print(\"Corresponding MSE:\", min_mse)\n"
      ],
      "metadata": {
        "colab": {
          "base_uri": "https://localhost:8080/"
        },
        "id": "fqw-XXtEj9St",
        "outputId": "84929fef-7291-4284-844d-f417dcec2350"
      },
      "execution_count": 4,
      "outputs": [
        {
          "output_type": "stream",
          "name": "stdout",
          "text": [
            "Best d1 value: 560\n",
            "Best d2 value: 0.05\n",
            "Corresponding MSE: 160520.66894441843\n"
          ]
        }
      ]
    },
    {
      "cell_type": "markdown",
      "source": [
        "# Find the best b0, d1 and d2 values"
      ],
      "metadata": {
        "id": "xm3P6-mZlZcc"
      }
    },
    {
      "cell_type": "code",
      "source": [
        "import numpy as np\n",
        "import pandas as pd\n",
        "\n",
        "# Read data from Excel file\n",
        "data = pd.read_excel(\"/content/Data.xlsx\")\n",
        "original_results = data['hard.Rate'].values\n",
        "ep_values = data['t.strain'].values\n",
        "\n",
        "# Define function to calculate MSE\n",
        "def calculate_mse(b0, d1, d2, ee, ei, ep_values, original_results):\n",
        "    calculated_results = []\n",
        "    for ep in ep_values:\n",
        "        if abs((ep - ei) / (ei + ee)) < 1:\n",
        "            result = b0 - d1 * ((abs((ep - ei) / (ei + ee)) * np.arctanh((ep - ei) / (ei + ee))) - (d2 * ((ep - ei) / (ei + ee))))\n",
        "            calculated_results.append(result)\n",
        "        else:\n",
        "            calculated_results.append(None)\n",
        "    mse = np.mean((np.array(original_results) - np.array(calculated_results)) ** 2)\n",
        "    return mse\n",
        "\n",
        "# Initialize variables to store best parameters\n",
        "ee = 0.001;\n",
        "ei = 0.165;\n",
        "best_b0 = None\n",
        "best_d1 = None\n",
        "best_d2 = None\n",
        "min_mse = float('inf')\n",
        "\n",
        "# Nested loops to iterate over B0, D1, and D2 values\n",
        "for b0_value in range(1520, 6201, 10):\n",
        "    for d1_value in range(400, 10001, 20):\n",
        "        for d2_value in np.arange(0.05, 0.34, 0.1):\n",
        "            mse_value = calculate_mse(b0_value, d1_value, d2_value, ee, ei, ep_values, original_results)\n",
        "            if mse_value < min_mse:\n",
        "                min_mse = mse_value\n",
        "                best_b0 = b0_value\n",
        "                best_d1 = d1_value\n",
        "                best_d2 = d2_value\n",
        "\n",
        "print(\"Best B0 value:\", best_b0)\n",
        "print(\"Best D1 value:\", best_d1)\n",
        "print(\"Best D2 value:\", best_d2)\n",
        "print(\"Corresponding MSE:\", min_mse)\n"
      ],
      "metadata": {
        "colab": {
          "base_uri": "https://localhost:8080/"
        },
        "id": "evN1NfVPkAsd",
        "outputId": "7f55f46e-1614-4a75-b369-142d383713aa"
      },
      "execution_count": 5,
      "outputs": [
        {
          "output_type": "stream",
          "name": "stdout",
          "text": [
            "Best B0 value: 2880\n",
            "Best D1 value: 540\n",
            "Best D2 value: 0.05\n",
            "Corresponding MSE: 149053.47152937905\n"
          ]
        }
      ]
    },
    {
      "cell_type": "markdown",
      "source": [
        "# Find the best d1, d2 and ei values"
      ],
      "metadata": {
        "id": "TWHHmXenHzSz"
      }
    },
    {
      "cell_type": "code",
      "source": [
        "import numpy as np\n",
        "import pandas as pd\n",
        "\n",
        "# Read data from Excel file\n",
        "data = pd.read_excel(\"/content/Data.xlsx\")\n",
        "original_results = data['hard.Rate'].values\n",
        "ep_values = data['t.strain'].values\n",
        "\n",
        "# Define function to calculate MSE\n",
        "def calculate_mse(b0, d1, d2, ee, ei, ep_values, original_results):\n",
        "    calculated_results = []\n",
        "    for ep in ep_values:\n",
        "        if abs((ep - ei) / (ei + ee)) < 1:\n",
        "            result = b0 - d1 * ((abs((ep - ei) / (ei + ee)) * np.arctanh((ep - ei) / (ei + ee))) - (d2 * ((ep - ei) / (ei + ee))))\n",
        "            calculated_results.append(result)\n",
        "        else:\n",
        "            calculated_results.append(None)  # Handle cases where the condition is not met\n",
        "    valid_calculated_results = [result for result in calculated_results if result is not None]  # Filter out None values\n",
        "    mse = np.mean((np.array(original_results[:len(valid_calculated_results)]) - np.array(valid_calculated_results)) ** 2)\n",
        "    return mse\n",
        "\n",
        "# Initialize variables to store best parameters\n",
        "ee = 0.001;\n",
        "b0 = 2880;\n",
        "best_d1 = None\n",
        "best_d2 = None\n",
        "best_ei = None\n",
        "min_mse = float('inf')\n",
        "\n",
        "# Nested loops to iterate over B0, D1, D2, and Ei values\n",
        "for b0_value in range(1520, 6201, 10):\n",
        "    for d1_value in range(400, 10001, 20):\n",
        "        for d2_value in np.arange(0.05, 0.34, 0.05):\n",
        "            for ei_value in np.arange(0.09, 0.285, 0.5):\n",
        "                mse_value = calculate_mse(b0, d1_value, d2_value, ee, ei_value, ep_values, original_results)\n",
        "                if mse_value < min_mse:\n",
        "                    min_mse = mse_value\n",
        "                    best_d1 = d1_value\n",
        "                    best_d2 = d2_value\n",
        "                    best_ei = ei_value\n",
        "\n",
        "print(\"Best D1 value:\", best_d1)\n",
        "print(\"Best D2 value:\", best_d2)\n",
        "print(\"Best Ei value:\", best_ei)\n",
        "print(\"Corresponding MSE:\", min_mse)\n"
      ],
      "metadata": {
        "colab": {
          "base_uri": "https://localhost:8080/"
        },
        "id": "e0uzaiXlCRQf",
        "outputId": "554091bd-8669-4d59-ce26-88cf30be9198"
      },
      "execution_count": 16,
      "outputs": [
        {
          "output_type": "stream",
          "name": "stdout",
          "text": [
            "Best D1 value: 440\n",
            "Best D2 value: 0.05\n",
            "Best Ei value: 0.09\n",
            "Corresponding MSE: 151741.59449007924\n"
          ]
        }
      ]
    },
    {
      "cell_type": "markdown",
      "source": [
        "# Find the best b0, d1, d2 and ei values"
      ],
      "metadata": {
        "id": "isJheO9D8pXy"
      }
    },
    {
      "cell_type": "code",
      "source": [
        "import numpy as np\n",
        "import pandas as pd\n",
        "\n",
        "# Read data from Excel file\n",
        "data = pd.read_excel(\"/content/Data.xlsx\")\n",
        "original_results = data['hard.Rate'].values\n",
        "ep_values = data['t.strain'].values\n",
        "\n",
        "# Define function to calculate MSE\n",
        "def calculate_mse(b0, d1, d2, ee, ei, ep_values, original_results):\n",
        "    calculated_results = []\n",
        "    for ep in ep_values:\n",
        "        if abs((ep - ei) / (ei + ee)) < 1:\n",
        "            result = b0 - d1 * ((abs((ep - ei) / (ei + ee)) * np.arctanh((ep - ei) / (ei + ee))) - (d2 * ((ep - ei) / (ei + ee))))\n",
        "            calculated_results.append(result)\n",
        "        else:\n",
        "            calculated_results.append(None)  # Handle cases where the condition is not met\n",
        "    valid_results = [result for result in calculated_results if result is not None]  # Filter out None values\n",
        "    mse = np.mean((np.array(original_results[:len(valid_results)]) - np.array(valid_results)) ** 2)\n",
        "    return mse\n",
        "\n",
        "# Initialize variables to store best parameters\n",
        "ee = 0.001;\n",
        "best_b0 = None\n",
        "best_d1 = None\n",
        "best_d2 = None\n",
        "best_ei = None\n",
        "min_mse = float('inf')\n",
        "\n",
        "# Nested loops to iterate over B0, D1, D2, and Ei values\n",
        "for b0_value in range(1520, 6201, 10):\n",
        "    for d1_value in range(400, 10001, 20):\n",
        "        for d2_value in np.arange(0.05, 0.34, 0.05):\n",
        "            for ei_value in np.arange(0.09, 0.285, 0.1):\n",
        "                mse_value = calculate_mse(b0_value, d1_value, d2_value, ee, ei_value, ep_values, original_results)\n",
        "                if mse_value < min_mse:\n",
        "                    min_mse = mse_value\n",
        "                    best_b0 = b0_value\n",
        "                    best_d1 = d1_value\n",
        "                    best_d2 = d2_value\n",
        "                    best_ei = ei_value\n",
        "\n",
        "print(\"Best B0 value:\", best_b0)\n",
        "print(\"Best D1 value:\", best_d1)\n",
        "print(\"Best D2 value:\", best_d2)\n",
        "print(\"Best Ei value:\", best_ei)\n",
        "print(\"Corresponding MSE:\", min_mse)\n"
      ],
      "metadata": {
        "id": "Uux-u7aIlk9S",
        "colab": {
          "base_uri": "https://localhost:8080/"
        },
        "outputId": "6f0f17ca-3347-4c60-d473-3916abdd428d"
      },
      "execution_count": 17,
      "outputs": [
        {
          "output_type": "stream",
          "name": "stdout",
          "text": [
            "Best B0 value: 3140\n",
            "Best D1 value: 440\n",
            "Best D2 value: 0.05\n",
            "Best Ei value: 0.09\n",
            "Corresponding MSE: 82696.978273863\n"
          ]
        }
      ]
    }
  ]
}