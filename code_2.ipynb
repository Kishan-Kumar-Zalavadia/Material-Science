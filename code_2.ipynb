{
  "nbformat": 4,
  "nbformat_minor": 0,
  "metadata": {
    "colab": {
      "provenance": [],
      "mount_file_id": "1RU03HmQfBIIb5i-mLNosWbR3SqHn-yKG",
      "authorship_tag": "ABX9TyMUlZeGJiDQgnrTg86s6I2w",
      "include_colab_link": true
    },
    "kernelspec": {
      "name": "python3",
      "display_name": "Python 3"
    },
    "language_info": {
      "name": "python"
    }
  },
  "cells": [
    {
      "cell_type": "markdown",
      "metadata": {
        "id": "view-in-github",
        "colab_type": "text"
      },
      "source": [
        "<a href=\"https://colab.research.google.com/github/Kishan-Kumar-Zalavadia/Material-Science/blob/main/code_2.ipynb\" target=\"_parent\"><img src=\"https://colab.research.google.com/assets/colab-badge.svg\" alt=\"Open In Colab\"/></a>"
      ]
    },
    {
      "cell_type": "markdown",
      "source": [
        "# Method to solve the equation"
      ],
      "metadata": {
        "id": "ldvYdmfqYkPu"
      }
    },
    {
      "cell_type": "code",
      "source": [
        "import numpy as np\n",
        "\n",
        "def calculate(b0, d1, d2, ee, ei, ep):\n",
        "  if(abs((ep-ei)/(ei+ee))<1):\n",
        "    result = b0 - d1 * ((abs((ep-ei)/(ei+ee)) * np.arctanh((ep-ei)/(ei+ee))) - (d2 * ((ep-ei)/(ei+ee))));\n",
        "  return result;"
      ],
      "metadata": {
        "id": "73Et8mcMYj4r"
      },
      "execution_count": null,
      "outputs": []
    },
    {
      "cell_type": "code",
      "source": [
        "b0 = 2775;\n",
        "d1 = 560;\n",
        "d2 = 0.05;\n",
        "ee = 0.001;\n",
        "ei = 0.165;\n",
        "ep = 0.04;\n",
        "print(calculate(b0, d1, d2, ee, ei, ep))"
      ],
      "metadata": {
        "colab": {
          "base_uri": "https://localhost:8080/"
        },
        "id": "0uxa0PgGaasn",
        "outputId": "a97bbc4c-5fb1-4193-9ab7-1ff6c2c51e54"
      },
      "execution_count": null,
      "outputs": [
        {
          "output_type": "stream",
          "name": "stdout",
          "text": [
            "3167.1162169659724\n"
          ]
        }
      ]
    },
    {
      "cell_type": "markdown",
      "source": [
        "# Find the best b0 value"
      ],
      "metadata": {
        "id": "uVd6ChEmj0-k"
      }
    },
    {
      "cell_type": "code",
      "source": [
        "import numpy as np\n",
        "import pandas as pd\n",
        "\n",
        "# Read data from Excel file\n",
        "data = pd.read_excel(\"/content/Data.xlsx\")\n",
        "original_results = data['hard.Rate'].values\n",
        "ep_values = data['t.strain'].values\n",
        "\n",
        "# Define function to calculate MSE\n",
        "def calculate_mse(b0, d1, d2, ee, ei, ep_values, original_results):\n",
        "    calculated_results = []\n",
        "    for ep in ep_values:\n",
        "        if abs((ep - ei) / (ei + ee)) < 1:\n",
        "            result = b0 - d1 * ((abs((ep - ei) / (ei + ee)) * np.arctanh((ep - ei) / (ei + ee))) - (d2 * ((ep - ei) / (ei + ee))))\n",
        "            calculated_results.append(result)\n",
        "        else:\n",
        "            calculated_results.append(None)  # Handle cases where the condition is not met\n",
        "    mse = np.mean((np.array(original_results) - np.array(calculated_results)) ** 2)\n",
        "    return mse\n",
        "\n",
        "# Iterate over B0 values and find the one with least MSE\n",
        "d1 = 560;\n",
        "d2 = 0.05;\n",
        "ee = 0.001;\n",
        "ei = 0.165;\n",
        "ep = 0.04;\n",
        "best_b0 = None\n",
        "min_mse = float('inf')\n",
        "count=0;\n",
        "for b0 in range(1520, 6201, 10):\n",
        "    count+=1\n",
        "    mse = calculate_mse(b0, d1, d2, ee, ei, ep_values, original_results)\n",
        "    if mse < min_mse:\n",
        "        min_mse = mse\n",
        "        best_b0 = b0\n",
        "print(\"Count:\",count)\n",
        "print(\"Best B0 value:\", best_b0)\n",
        "print(\"Corresponding MSE:\", min_mse)\n"
      ],
      "metadata": {
        "colab": {
          "base_uri": "https://localhost:8080/"
        },
        "id": "_XZeZOeffGIR",
        "outputId": "786eab95-adcf-4bb6-d252-cfc04b0e9619"
      },
      "execution_count": 29,
      "outputs": [
        {
          "output_type": "stream",
          "name": "stdout",
          "text": [
            "Count: 469\n",
            "Best B0 value: 2880\n",
            "Corresponding MSE: 149104.67497364077\n"
          ]
        }
      ]
    },
    {
      "cell_type": "markdown",
      "source": [
        "# Find the best d1 and d2 values.\n"
      ],
      "metadata": {
        "id": "TrdC0_S5j5UE"
      }
    },
    {
      "cell_type": "code",
      "source": [
        "import numpy as np\n",
        "import pandas as pd\n",
        "\n",
        "# Read data from Excel file\n",
        "data = pd.read_excel(\"/content/Data.xlsx\")\n",
        "original_results = data['hard.Rate'].values\n",
        "ep_values = data['t.strain'].values\n",
        "\n",
        "# Define function to calculate MSE\n",
        "def calculate_mse(b0, d1, d2, ee, ei, ep_values, original_results):\n",
        "    calculated_results = []\n",
        "    for ep in ep_values:\n",
        "        if abs((ep - ei) / (ei + ee)) < 1:\n",
        "            result = b0 - d1 * ((abs((ep - ei) / (ei + ee)) * np.arctanh((ep - ei) / (ei + ee))) - (d2 * ((ep - ei) / (ei + ee))))\n",
        "            calculated_results.append(result)\n",
        "        else:\n",
        "            calculated_results.append(None)  # Handle cases where the condition is not met\n",
        "    mse = np.mean((np.array(original_results) - np.array(calculated_results)) ** 2)\n",
        "    return mse\n",
        "\n",
        "# Initialize variables to store best parameters\n",
        "b0 = 2775;\n",
        "ee = 0.001;\n",
        "ei = 0.165;\n",
        "best_d1 = None\n",
        "best_d2 = None\n",
        "min_mse = float('inf')\n",
        "\n",
        "# Nested loops to iterate over d1 and d2 values\n",
        "for d1 in range(400, 10001, 10):\n",
        "    for d2 in np.arange(0.05, 0.34, 0.05):\n",
        "        mse = calculate_mse(b0, d1, d2, ee, ei, ep_values, original_results)\n",
        "        if mse < min_mse:\n",
        "            min_mse = mse\n",
        "            best_d1 = d1\n",
        "            best_d2 = d2\n",
        "\n",
        "print(\"Best d1 value:\", best_d1)\n",
        "print(\"Best d2 value:\", best_d2)\n",
        "print(\"Corresponding MSE:\", min_mse)\n"
      ],
      "metadata": {
        "colab": {
          "base_uri": "https://localhost:8080/"
        },
        "id": "fqw-XXtEj9St",
        "outputId": "84929fef-7291-4284-844d-f417dcec2350"
      },
      "execution_count": null,
      "outputs": [
        {
          "output_type": "stream",
          "name": "stdout",
          "text": [
            "Best d1 value: 560\n",
            "Best d2 value: 0.05\n",
            "Corresponding MSE: 160520.66894441843\n"
          ]
        }
      ]
    },
    {
      "cell_type": "markdown",
      "source": [
        "# Find the best b0, d1 and d2 values"
      ],
      "metadata": {
        "id": "xm3P6-mZlZcc"
      }
    },
    {
      "cell_type": "code",
      "source": [
        "import numpy as np\n",
        "import pandas as pd\n",
        "\n",
        "# Read data from Excel file\n",
        "data = pd.read_excel(\"/content/Data.xlsx\")\n",
        "original_results = data['hard.Rate'].values\n",
        "ep_values = data['t.strain'].values\n",
        "\n",
        "# Define function to calculate MSE\n",
        "def calculate_mse(b0, d1, d2, ee, ei, ep_values, original_results):\n",
        "    calculated_results = []\n",
        "    for ep in ep_values:\n",
        "        if abs((ep - ei) / (ei + ee)) < 1:\n",
        "            result = b0 - d1 * ((abs((ep - ei) / (ei + ee)) * np.arctanh((ep - ei) / (ei + ee))) - (d2 * ((ep - ei) / (ei + ee))))\n",
        "            calculated_results.append(result)\n",
        "        else:\n",
        "            calculated_results.append(None)\n",
        "    mse = np.mean((np.array(original_results) - np.array(calculated_results)) ** 2)\n",
        "    return mse\n",
        "\n",
        "# Initialize variables to store best parameters\n",
        "ee = 0.001;\n",
        "ei = 0.165;\n",
        "best_b0 = None\n",
        "best_d1 = None\n",
        "best_d2 = None\n",
        "min_mse = float('inf')\n",
        "\n",
        "# Nested loops to iterate over B0, D1, and D2 values\n",
        "for b0_value in range(1520, 6201, 10):\n",
        "    for d1_value in range(400, 10001, 20):\n",
        "        for d2_value in np.arange(0.05, 0.34, 0.1):\n",
        "            mse_value = calculate_mse(b0_value, d1_value, d2_value, ee, ei, ep_values, original_results)\n",
        "            if mse_value < min_mse:\n",
        "                min_mse = mse_value\n",
        "                best_b0 = b0_value\n",
        "                best_d1 = d1_value\n",
        "                best_d2 = d2_value\n",
        "\n",
        "print(\"Best B0 value:\", best_b0)\n",
        "print(\"Best D1 value:\", best_d1)\n",
        "print(\"Best D2 value:\", best_d2)\n",
        "print(\"Corresponding MSE:\", min_mse)\n"
      ],
      "metadata": {
        "colab": {
          "base_uri": "https://localhost:8080/"
        },
        "id": "evN1NfVPkAsd",
        "outputId": "7f55f46e-1614-4a75-b369-142d383713aa"
      },
      "execution_count": null,
      "outputs": [
        {
          "output_type": "stream",
          "name": "stdout",
          "text": [
            "Best B0 value: 2880\n",
            "Best D1 value: 540\n",
            "Best D2 value: 0.05\n",
            "Corresponding MSE: 149053.47152937905\n"
          ]
        }
      ]
    },
    {
      "cell_type": "markdown",
      "source": [
        "# Find the best d1, d2 and ei values"
      ],
      "metadata": {
        "id": "TWHHmXenHzSz"
      }
    },
    {
      "cell_type": "code",
      "source": [
        "import numpy as np\n",
        "import pandas as pd\n",
        "\n",
        "# Read data from Excel file\n",
        "data = pd.read_excel(\"/content/Data.xlsx\")\n",
        "original_results = data['hard.Rate'].values\n",
        "ep_values = data['t.strain'].values\n",
        "\n",
        "# Define function to calculate MSE\n",
        "def calculate_mse(b0, d1, d2, ee, ei, ep_values, original_results):\n",
        "    calculated_results = []\n",
        "    for ep in ep_values:\n",
        "        if abs((ep - ei) / (ei + ee)) < 1:\n",
        "            result = b0 - d1 * ((abs((ep - ei) / (ei + ee)) * np.arctanh((ep - ei) / (ei + ee))) - (d2 * ((ep - ei) / (ei + ee))))\n",
        "            calculated_results.append(result)\n",
        "        else:\n",
        "            calculated_results.append(None)  # Handle cases where the condition is not met\n",
        "    valid_calculated_results = [result for result in calculated_results if result is not None]  # Filter out None values\n",
        "    mse = np.mean((np.array(original_results[:len(valid_calculated_results)]) - np.array(valid_calculated_results)) ** 2)\n",
        "    return mse\n",
        "\n",
        "# Initialize variables to store best parameters\n",
        "ee = 0.001;\n",
        "b0 = 2880;\n",
        "best_d1 = None\n",
        "best_d2 = None\n",
        "best_ei = None\n",
        "min_mse = float('inf')\n",
        "\n",
        "# Nested loops to iterate over B0, D1, D2, and Ei values\n",
        "for b0_value in range(1520, 6201, 10):\n",
        "    for d1_value in range(400, 10001, 20):\n",
        "        for d2_value in np.arange(0.05, 0.34, 0.05):\n",
        "            for ei_value in np.arange(0.09, 0.285, 0.5):\n",
        "                mse_value = calculate_mse(b0, d1_value, d2_value, ee, ei_value, ep_values, original_results)\n",
        "                if mse_value < min_mse:\n",
        "                    min_mse = mse_value\n",
        "                    best_d1 = d1_value\n",
        "                    best_d2 = d2_value\n",
        "                    best_ei = ei_value\n",
        "\n",
        "print(\"Best D1 value:\", best_d1)\n",
        "print(\"Best D2 value:\", best_d2)\n",
        "print(\"Best Ei value:\", best_ei)\n",
        "print(\"Corresponding MSE:\", min_mse)\n"
      ],
      "metadata": {
        "colab": {
          "base_uri": "https://localhost:8080/"
        },
        "id": "e0uzaiXlCRQf",
        "outputId": "554091bd-8669-4d59-ce26-88cf30be9198"
      },
      "execution_count": null,
      "outputs": [
        {
          "output_type": "stream",
          "name": "stdout",
          "text": [
            "Best D1 value: 440\n",
            "Best D2 value: 0.05\n",
            "Best Ei value: 0.09\n",
            "Corresponding MSE: 151741.59449007924\n"
          ]
        }
      ]
    },
    {
      "cell_type": "markdown",
      "source": [
        "# Find the best b0, d1, d2 and ei values"
      ],
      "metadata": {
        "id": "isJheO9D8pXy"
      }
    },
    {
      "cell_type": "code",
      "source": [
        "import numpy as np\n",
        "import pandas as pd\n",
        "\n",
        "# Read data from Excel file\n",
        "data = pd.read_excel(\"/content/Data.xlsx\")\n",
        "original_results = data['hard.Rate'].values\n",
        "ep_values = data['t.strain'].values\n",
        "\n",
        "# Define function to calculate MSE\n",
        "def calculate_mse(b0, d1, d2, ee, ei, ep_values, original_results):\n",
        "    calculated_results = []\n",
        "    for ep in ep_values:\n",
        "        if abs((ep - ei) / (ei + ee)) < 1:\n",
        "            result = b0 - d1 * ((abs((ep - ei) / (ei + ee)) * np.arctanh((ep - ei) / (ei + ee))) - (d2 * ((ep - ei) / (ei + ee))))\n",
        "            calculated_results.append(result)\n",
        "        else:\n",
        "            calculated_results.append(None)  # Handle cases where the condition is not met\n",
        "    valid_results = [result for result in calculated_results if result is not None]  # Filter out None values\n",
        "    mse = np.mean((np.array(original_results[:len(valid_results)]) - np.array(valid_results)) ** 2)\n",
        "    return mse\n",
        "\n",
        "# Initialize variables to store best parameters\n",
        "ee = 0.001;\n",
        "best_b0 = None\n",
        "best_d1 = None\n",
        "best_d2 = None\n",
        "best_ei = None\n",
        "min_mse = float('inf')\n",
        "\n",
        "# Nested loops to iterate over B0, D1, D2, and Ei values\n",
        "for b0_value in range(1520, 6201, 10):\n",
        "    for d1_value in range(400, 10001, 20):\n",
        "        for d2_value in np.arange(0.05, 0.34, 0.05):\n",
        "            for ei_value in np.arange(0.09, 0.285, 0.1):\n",
        "                mse_value = calculate_mse(b0_value, d1_value, d2_value, ee, ei_value, ep_values, original_results)\n",
        "                if mse_value < min_mse:\n",
        "                    min_mse = mse_value\n",
        "                    best_b0 = b0_value\n",
        "                    best_d1 = d1_value\n",
        "                    best_d2 = d2_value\n",
        "                    best_ei = ei_value\n",
        "\n",
        "print(\"Best B0 value:\", best_b0)\n",
        "print(\"Best D1 value:\", best_d1)\n",
        "print(\"Best D2 value:\", best_d2)\n",
        "print(\"Best Ei value:\", best_ei)\n",
        "print(\"Corresponding MSE:\", min_mse)\n"
      ],
      "metadata": {
        "id": "Uux-u7aIlk9S",
        "colab": {
          "base_uri": "https://localhost:8080/"
        },
        "outputId": "6f0f17ca-3347-4c60-d473-3916abdd428d"
      },
      "execution_count": null,
      "outputs": [
        {
          "output_type": "stream",
          "name": "stdout",
          "text": [
            "Best B0 value: 3140\n",
            "Best D1 value: 440\n",
            "Best D2 value: 0.05\n",
            "Best Ei value: 0.09\n",
            "Corresponding MSE: 82696.978273863\n"
          ]
        }
      ]
    },
    {
      "cell_type": "markdown",
      "source": [
        "## Find b0 using interpolation"
      ],
      "metadata": {
        "id": "q7D6musKKKZg"
      }
    },
    {
      "cell_type": "code",
      "source": [
        "import numpy as np\n",
        "import pandas as pd\n",
        "from scipy.interpolate import make_interp_spline\n",
        "import matplotlib.pyplot as plt\n",
        "\n",
        "# Read Excel file\n",
        "file_path = '/content/Data.xlsx'\n",
        "df = pd.read_excel(file_path)\n",
        "\n",
        "# Extract x and y columns\n",
        "x = df['t.strain'].values\n",
        "y = df['hard.Rate'].values\n",
        "\n",
        "\n",
        "# Check for and handle NaN or infinite values\n",
        "mask = np.isfinite(x) & np.isfinite(y)\n",
        "x = x[mask]\n",
        "y = y[mask]\n",
        "\n",
        "# Set the value of k for spline interpolation\n",
        "k_value = 5\n",
        "\n",
        "# Perform cubic spline interpolation\n",
        "spline_interp = make_interp_spline(x, y, k=k_value)\n",
        "\n",
        "\n",
        "# Perform cubic spline interpolation\n",
        "spline_interp = make_interp_spline(x, y, k=k_value)\n",
        "\n",
        "# Generate new x values for interpolation\n",
        "x_new = np.linspace(min(x), max(x), 100)\n",
        "\n",
        "# Perform interpolation\n",
        "y_new = spline_interp(x_new)\n",
        "\n",
        "# Fit cubic polynomial to the entire dataset\n",
        "coefficients = np.polyfit(x, y, k_value)\n",
        "\n",
        "# Print the coefficients\n",
        "print(\"Cubic Polynomial Coefficients:\", coefficients)\n",
        "\n",
        "# Generate y values for the cubic polynomial\n",
        "y_cubic = np.polyval(coefficients, x_new)\n",
        "\n",
        "# Dynamic equation print\n",
        "cubic_equation = \"Polynomial Equation: \"\n",
        "for i, coef in enumerate(coefficients):\n",
        "    cubic_equation += f\"{coef:.6f} x^{k_value-i} + \" if i < k_value else f\"{coef:.6f}\"\n",
        "print()\n",
        "\n",
        "# Remove the trailing ' + ' at the end\n",
        "cubic_equation = cubic_equation.rstrip(' + ')\n",
        "print(cubic_equation)\n",
        "print()\n",
        "\n",
        "# Take the derivative of the polynomial\n",
        "derivative_coefficients = np.polyder(coefficients)\n",
        "\n",
        "# Dynamic equation print for the derivative\n",
        "derivative_equation = \"Derivative Equation: \"\n",
        "for i, coef in enumerate(derivative_coefficients):\n",
        "    derivative_equation += f\"{coef:.6f} x^{k_value-1 -i} + \" if i < k_value-1 else f\"{coef:.6f}\"\n",
        "    # cubic_equation += f\"{coef:.6f} x^{k_value-i} + \" if i < k_value else f\"{coef:.6f}\"\n",
        "\n",
        "# Remove the trailing ' + ' at the end\n",
        "derivative_equation = derivative_equation.rstrip(' + ')\n",
        "print(derivative_equation)\n",
        "print()\n",
        "\n",
        "# Find the roots (zeros) of the derivative equation\n",
        "roots = np.roots(derivative_coefficients)\n",
        "print(\"Roots (Zeros) of the Derivative Equation:\", roots)\n",
        "print()\n",
        "\n",
        "# Calculate y values for each root using the original cubic polynomial\n",
        "y_roots = np.polyval(coefficients, roots)\n",
        "\n",
        "# Print the corresponding y values for the roots\n",
        "for i, root in enumerate(roots):\n",
        "    print(f\"For x = {root:.6f}, y = {y_roots[i]:.6f}\")\n",
        "print()\n",
        "\n",
        "# Plot the original data, interpolated curve, and cubic polynomial\n",
        "plt.scatter(x, y, label='Original Data')\n",
        "plt.plot(x_new, y_new, label='Interpolated Curve', color='red')\n",
        "plt.plot(x_new, y_cubic, label='Polynomial', linestyle='dashed', color='green')\n",
        "plt.xlabel('X-axis')\n",
        "plt.ylabel('Y-axis')\n",
        "plt.legend()\n",
        "plt.title('Interpolation and Polynomial Fit')\n",
        "plt.show()\n"
      ],
      "metadata": {
        "colab": {
          "base_uri": "https://localhost:8080/",
          "height": 742
        },
        "id": "aDojab6fKRWR",
        "outputId": "27dbde4d-78b0-4fb2-be7b-ac92c9e0ecc8"
      },
      "execution_count": 34,
      "outputs": [
        {
          "output_type": "stream",
          "name": "stdout",
          "text": [
            "Cubic Polynomial Coefficients: [ 7.31356743e+00  1.95938002e+06 -1.56997104e+06  4.20104939e+05\n",
            " -4.54570942e+04  4.55780103e+03]\n",
            "\n",
            "Polynomial Equation: 7.313567 x^5 + 1959380.017111 x^4 + -1569971.044005 x^3 + 420104.939062 x^2 + -45457.094188 x^1 + 4557.801026\n",
            "\n",
            "Derivative Equation: 36.567837 x^4 + 7837520.068442 x^3 + -4709913.132016 x^2 + 840209.878125 x^1 + -45457.094188\n",
            "\n",
            "Roots (Zeros) of the Derivative Equation: [-2.14328838e+05  3.28043639e-01  1.67079982e-01  1.05819510e-01]\n",
            "\n",
            "For x = -214328.838110, y = 826940678179840432906698752.000000\n",
            "For x = 0.328044, y = 2122.522092\n",
            "For x = 0.167080, y = 2894.690659\n",
            "For x = 0.105820, y = 2837.153082\n",
            "\n"
          ]
        },
        {
          "output_type": "display_data",
          "data": {
            "text/plain": [
              "<Figure size 640x480 with 1 Axes>"
            ],
            "image/png": "[encoded data removed]"
          },
          "metadata": {}
        }
      ]
    },
    {
      "cell_type": "code",
      "source": [
        "b0_values = y_roots\n",
        "b0_values\n",
        "\n",
        "# Calculate the median of b0\n",
        "median_b0 = np.median(b0_values)\n",
        "\n",
        "# Find the index of the value farthest from the median\n",
        "idx_odd_one_out = np.argmax(np.abs(b0_values - median_b0))\n",
        "\n",
        "# Remove the odd one out\n",
        "b0_filtered = np.delete(b0_values, idx_odd_one_out)\n",
        "\n",
        "print(\"Filtered b0 array:\", b0_filtered)\n",
        "\n",
        "# Sort the b0 values from lowest to highest\n",
        "b0_sorted = np.sort(b0_filtered)\n",
        "\n",
        "# Initialize an empty list to store the values\n",
        "b0_interval = []\n",
        "\n",
        "# Iterate over the range of b0 values with a step of 10\n",
        "for i in range(int(b0_sorted[0]), int(b0_sorted[-1]), 10):\n",
        "    b0_interval.append(i)\n",
        "\n",
        "print(\"b0 values from lowest to highest in intervals of 10:\")\n",
        "print(b0_interval)\n",
        "# Calculate the average of the b0 values\n",
        "b0_average = np.mean(b0_filtered)\n",
        "\n",
        "print(\"Average of the b0 values:\", b0_average)\n",
        "\n"
      ],
      "metadata": {
        "colab": {
          "base_uri": "https://localhost:8080/"
        },
        "id": "AAlJW9UrKc4S",
        "outputId": "76ccee41-579a-4322-bf56-6b3f5395f638"
      },
      "execution_count": 28,
      "outputs": [
        {
          "output_type": "stream",
          "name": "stdout",
          "text": [
            "Filtered b0 array: [2241.33966085 2985.92668246 2758.71755245]\n",
            "b0 values from lowest to highest in intervals of 10:\n",
            "[2241, 2251, 2261, 2271, 2281, 2291, 2301, 2311, 2321, 2331, 2341, 2351, 2361, 2371, 2381, 2391, 2401, 2411, 2421, 2431, 2441, 2451, 2461, 2471, 2481, 2491, 2501, 2511, 2521, 2531, 2541, 2551, 2561, 2571, 2581, 2591, 2601, 2611, 2621, 2631, 2641, 2651, 2661, 2671, 2681, 2691, 2701, 2711, 2721, 2731, 2741, 2751, 2761, 2771, 2781, 2791, 2801, 2811, 2821, 2831, 2841, 2851, 2861, 2871, 2881, 2891, 2901, 2911, 2921, 2931, 2941, 2951, 2961, 2971, 2981]\n",
            "Average of the b0 values: 2661.9946319199225\n"
          ]
        }
      ]
    },
    {
      "cell_type": "code",
      "source": [
        "import numpy as np\n",
        "import pandas as pd\n",
        "\n",
        "# Read data from Excel file\n",
        "data = pd.read_excel(\"/content/Data.xlsx\")\n",
        "original_results = data['hard.Rate'].values\n",
        "ep_values = data['t.strain'].values\n",
        "\n",
        "# Define function to calculate MSE\n",
        "def calculate_mse(b0, d1, d2, ee, ei, ep_values, original_results):\n",
        "    calculated_results = []\n",
        "    for ep in ep_values:\n",
        "        if abs((ep - ei) / (ei + ee)) < 1:\n",
        "            result = b0 - d1 * ((abs((ep - ei) / (ei + ee)) * np.arctanh((ep - ei) / (ei + ee))) - (d2 * ((ep - ei) / (ei + ee))))\n",
        "            calculated_results.append(result)\n",
        "        else:\n",
        "            calculated_results.append(None)  # Handle cases where the condition is not met\n",
        "    mse = np.mean((np.array(original_results) - np.array(calculated_results)) ** 2)\n",
        "    return mse\n",
        "\n",
        "# Iterate over B0 values and find the one with least MSE\n",
        "d1 = 560;\n",
        "d2 = 0.05;\n",
        "ee = 0.001;\n",
        "ei = 0.165;\n",
        "ep = 0.04;\n",
        "best_b0 = None\n",
        "min_mse = float('inf')\n",
        "count=0\n",
        "for b0 in range(int(b0_sorted[0]), int(b0_sorted[-1]), 10):\n",
        "    count+=1\n",
        "    mse = calculate_mse(b0, d1, d2, ee, ei, ep_values, original_results)\n",
        "    if mse < min_mse:\n",
        "        min_mse = mse\n",
        "        best_b0 = b0\n",
        "print(\"Count:\", count)\n",
        "print(\"Best B0 value:\", best_b0)\n",
        "print(\"Corresponding MSE:\", min_mse)\n"
      ],
      "metadata": {
        "colab": {
          "base_uri": "https://localhost:8080/"
        },
        "id": "eu8QIqygNuuf",
        "outputId": "723acb68-495b-4c4a-ba04-14fbf43e0af3"
      },
      "execution_count": 35,
      "outputs": [
        {
          "output_type": "stream",
          "name": "stdout",
          "text": [
            "Count: 75\n",
            "Best B0 value: 2841\n",
            "Corresponding MSE: 19541.03741980286\n"
          ]
        }
      ]
    },
    {
      "cell_type": "code",
      "source": [
        "import numpy as np\n",
        "import pandas as pd\n",
        "\n",
        "# Read data from Excel file\n",
        "data = pd.read_excel(\"/content/Data.xlsx\")\n",
        "original_results = data['hard.Rate'].values\n",
        "ep_values = data['t.strain'].values\n",
        "\n",
        "# Define function to calculate MSE\n",
        "def calculate_mse(b0, d1, d2, ee, ei, ep_values, original_results):\n",
        "    calculated_results = []\n",
        "    for ep in ep_values:\n",
        "        if abs((ep - ei) / (ei + ee)) < 1:\n",
        "            result = b0 - d1 * ((abs((ep - ei) / (ei + ee)) * np.arctanh((ep - ei) / (ei + ee))) - (d2 * ((ep - ei) / (ei + ee))))\n",
        "            calculated_results.append(result)\n",
        "        else:\n",
        "            calculated_results.append(None)  # Handle cases where the condition is not met\n",
        "    valid_results = [result for result in calculated_results if result is not None]  # Filter out None values\n",
        "    mse = np.mean((np.array(original_results[:len(valid_results)]) - np.array(valid_results)) ** 2)\n",
        "    return mse\n",
        "\n",
        "# Initialize variables to store best parameters\n",
        "ee = 0.0001;\n",
        "best_b0 = None\n",
        "best_d1 = None\n",
        "best_d2 = None\n",
        "best_ei = None\n",
        "min_mse = float('inf')\n",
        "\n",
        "# Nested loops to iterate over B0, D1, D2, and Ei values\n",
        "for b0_value in range(int(b0_sorted[0]), int(b0_sorted[-1]), 10):\n",
        "    for d1_value in range(400, 10001, 20):\n",
        "        for d2_value in np.arange(0.05, 0.34, 0.05):\n",
        "            for ei_value in np.arange(0.09, 0.285, 0.1):\n",
        "                mse_value = calculate_mse(b0_value, d1_value, d2_value, ee, ei_value, ep_values, original_results)\n",
        "                if mse_value < min_mse:\n",
        "                    min_mse = mse_value\n",
        "                    best_b0 = b0_value\n",
        "                    best_d1 = d1_value\n",
        "                    best_d2 = d2_value\n",
        "                    best_ei = ei_value\n",
        "\n",
        "print(\"Best B0 value:\", best_b0)\n",
        "print(\"Best D1 value:\", best_d1)\n",
        "print(\"Best D2 value:\", best_d2)\n",
        "print(\"Best Ei value:\", best_ei)\n",
        "print(\"Corresponding MSE:\", min_mse)\n"
      ],
      "metadata": {
        "colab": {
          "base_uri": "https://localhost:8080/"
        },
        "id": "OweQnGRPPhjn",
        "outputId": "51a9435a-2f45-4017-a8f0-7090e9772ceb"
      },
      "execution_count": 36,
      "outputs": [
        {
          "output_type": "stream",
          "name": "stdout",
          "text": [
            "Best B0 value: 2721\n",
            "Best D1 value: 660\n",
            "Best D2 value: 0.05\n",
            "Best Ei value: 0.19\n",
            "Corresponding MSE: 34802.66126894168\n"
          ]
        }
      ]
    }
  ]
}