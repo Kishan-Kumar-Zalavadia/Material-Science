{
  "nbformat": 4,
  "nbformat_minor": 0,
  "metadata": {
    "colab": {
      "provenance": [],
      "authorship_tag": "ABX9TyOwf7fOaVc4ae3XakEU2Pfd",
      "include_colab_link": true
    },
    "kernelspec": {
      "name": "python3",
      "display_name": "Python 3"
    },
    "language_info": {
      "name": "python"
    }
  },
  "cells": [
    {
      "cell_type": "markdown",
      "metadata": {
        "id": "view-in-github",
        "colab_type": "text"
      },
      "source": [
        "<a href=\"https://colab.research.google.com/github/Kishan-Kumar-Zalavadia/Material-Science/blob/main/code_7_(Keywords).ipynb\" target=\"_parent\"><img src=\"https://colab.research.google.com/assets/colab-badge.svg\" alt=\"Open In Colab\"/></a>"
      ]
    },
    {
      "cell_type": "code",
      "source": [
        "import re\n",
        "import PyPDF2\n",
        "import nltk\n",
        "from nltk.tokenize import word_tokenize\n",
        "from nltk.corpus import stopwords\n",
        "from nltk.stem import WordNetLemmatizer\n",
        "from nltk.corpus import wordnet\n",
        "import string\n",
        "\n",
        "# Download NLTK resources\n",
        "nltk.download('punkt')\n",
        "nltk.download('stopwords')\n",
        "nltk.download('wordnet')\n",
        "nltk.download('averaged_perceptron_tagger')\n"
      ],
      "metadata": {
        "colab": {
          "base_uri": "https://localhost:8080/"
        },
        "id": "DZyjN4izREyh",
        "outputId": "0b1b2013-0aa3-4cd7-edba-207ee264a8c9"
      },
      "execution_count": 28,
      "outputs": [
        {
          "output_type": "stream",
          "name": "stderr",
          "text": [
            "[nltk_data] Downloading package punkt to /root/nltk_data...\n",
            "[nltk_data]   Package punkt is already up-to-date!\n",
            "[nltk_data] Downloading package stopwords to /root/nltk_data...\n",
            "[nltk_data]   Package stopwords is already up-to-date!\n",
            "[nltk_data] Downloading package wordnet to /root/nltk_data...\n",
            "[nltk_data]   Package wordnet is already up-to-date!\n",
            "[nltk_data] Downloading package averaged_perceptron_tagger to\n",
            "[nltk_data]     /root/nltk_data...\n",
            "[nltk_data]   Package averaged_perceptron_tagger is already up-to-\n",
            "[nltk_data]       date!\n"
          ]
        },
        {
          "output_type": "execute_result",
          "data": {
            "text/plain": [
              "True"
            ]
          },
          "metadata": {},
          "execution_count": 28
        }
      ]
    },
    {
      "cell_type": "code",
      "source": [
        "\n",
        "def extract_text_from_pdf(file_path):\n",
        "    # Parse the PDF and extract text\n",
        "    text = \"\"\n",
        "    try:\n",
        "        with open(file_path, \"rb\") as f:\n",
        "            pdf_reader = PyPDF2.PdfReader(f)\n",
        "            num_pages = len(pdf_reader.pages)\n",
        "            for page_number in range(num_pages):\n",
        "                text += pdf_reader.pages[page_number].extract_text()\n",
        "    except PyPDF2.utils.PdfReadError as e:\n",
        "        print(\"Error reading PDF file:\", e)\n",
        "    except Exception as e:\n",
        "        print(\"An error occurred:\", e)\n",
        "\n",
        "    return text\n",
        "\n",
        "def find_lemmas(text):\n",
        "    # Tokenize the text\n",
        "    words = word_tokenize(text)\n",
        "\n",
        "    # Remove stop words\n",
        "    stop_words = set(stopwords.words('english'))\n",
        "    words = [word for word in words if word.lower() not in stop_words]\n",
        "\n",
        "    # Remove punctuation\n",
        "    words = [word for word in words if word not in string.punctuation]\n",
        "\n",
        "    # Initialize lemmatization object\n",
        "    lemmatizer = WordNetLemmatizer()\n",
        "\n",
        "    # Apply lemmatization to each word\n",
        "    lemmas = [lemmatizer.lemmatize(word, pos=get_wordnet_pos(word)) for word in words]\n",
        "\n",
        "    return lemmas\n",
        "\n",
        "# Function to map POS tag to first character lemmatize() accepts\n",
        "def get_wordnet_pos(word):\n",
        "    tag = nltk.pos_tag([word])[0][1][0].upper()\n",
        "    tag_dict = {\"J\": wordnet.ADJ, \"N\": wordnet.NOUN, \"V\": wordnet.VERB, \"R\": wordnet.ADV}\n",
        "    return tag_dict.get(tag, wordnet.NOUN)\n",
        "\n",
        "# Keywords to search for\n",
        "keywords = [\"cast\", \"forge\", \"powder\"]\n",
        "\n",
        "# Example usage:\n",
        "file_path = \"/content/db.pdf\"\n",
        "text = extract_text_from_pdf(file_path)\n",
        "if text:\n",
        "    lemmas = find_lemmas(text)\n",
        "    print(\"Lemmas containing the keywords:\")\n",
        "    for lemma in lemmas:\n",
        "        for keyword in keywords:\n",
        "            if keyword in lemma:\n",
        "                print(lemma)\n",
        "                break\n",
        "else:\n",
        "    print(\"Failed to extract text from PDF.\")\n"
      ],
      "metadata": {
        "colab": {
          "base_uri": "https://localhost:8080/"
        },
        "id": "h-T-D1zSPMT8",
        "outputId": "03f1b413-a732-4519-f9c1-004a530cfc3a"
      },
      "execution_count": 29,
      "outputs": [
        {
          "output_type": "stream",
          "name": "stdout",
          "text": [
            "Lemmas containing the keywords:\n",
            "cast\n"
          ]
        }
      ]
    },
    {
      "cell_type": "code",
      "source": [],
      "metadata": {
        "id": "wU-30ATORFMt"
      },
      "execution_count": null,
      "outputs": []
    }
  ]
}