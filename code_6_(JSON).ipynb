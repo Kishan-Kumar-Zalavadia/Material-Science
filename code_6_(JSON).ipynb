{
  "nbformat": 4,
  "nbformat_minor": 0,
  "metadata": {
    "colab": {
      "provenance": []
    },
    "kernelspec": {
      "name": "python3",
      "display_name": "Python 3"
    },
    "language_info": {
      "name": "python"
    }
  },
  "cells": [
    {
      "cell_type": "markdown",
      "source": [
        "## With ID"
      ],
      "metadata": {
        "id": "SDDhdFJ-LwF0"
      }
    },
    {
      "cell_type": "code",
      "source": [
        "import json\n",
        "import os\n",
        "\n",
        "def update_json_data(json_file_path, new_details):\n",
        "    \"\"\"\n",
        "    Update existing JSON data with new details and write back to the JSON file.\n",
        "\n",
        "    Args:\n",
        "        json_file_path (str): Path to the JSON file.\n",
        "        new_details (dict): Dictionary containing the new details to insert/update.\n",
        "    \"\"\"\n",
        "    # Check if the JSON file exists\n",
        "    if os.path.exists(json_file_path):\n",
        "        # Read the existing JSON data if the file exists\n",
        "        with open(json_file_path, 'r') as json_file:\n",
        "            existing_data = json.load(json_file)\n",
        "    else:\n",
        "        # If the file doesn't exist, initialize existing_data as an empty list\n",
        "        existing_data = []\n",
        "\n",
        "    # Generate a unique ID\n",
        "    if existing_data:\n",
        "        new_id = max(entry.get('id', 0) for entry in existing_data) + 1\n",
        "    else:\n",
        "        new_id = 1\n",
        "\n",
        "    # Add the ID to the new details\n",
        "    new_details_with_id = {'id': new_id}\n",
        "    new_details_with_id.update(new_details)\n",
        "\n",
        "    # Append new details to existing list\n",
        "    existing_data.append(new_details_with_id)\n",
        "\n",
        "    # Write the updated data back to the JSON file\n",
        "    with open(json_file_path, 'w') as json_file:\n",
        "        json.dump(existing_data, json_file, indent=4)\n",
        "\n",
        "    print(\"Data has been updated in\", json_file_path)\n"
      ],
      "metadata": {
        "id": "J2tLwFZWFOvN"
      },
      "execution_count": null,
      "outputs": []
    },
    {
      "cell_type": "markdown",
      "source": [
        "## Without ID"
      ],
      "metadata": {
        "id": "jWGeLWEtL4GP"
      }
    },
    {
      "cell_type": "code",
      "source": [
        "import json\n",
        "import os\n",
        "\n",
        "def update_json_data(json_file_path, new_details):\n",
        "    \"\"\"\n",
        "    Update existing JSON data with new details and write back to the JSON file.\n",
        "\n",
        "    Args:\n",
        "        json_file_path (str): Path to the JSON file.\n",
        "        new_details (dict): Dictionary containing the new details to insert/update.\n",
        "    \"\"\"\n",
        "    # Check if the JSON file exists\n",
        "    if os.path.exists(json_file_path):\n",
        "        # Read the existing JSON data if the file exists\n",
        "        with open(json_file_path, 'r') as json_file:\n",
        "            existing_data = json.load(json_file)\n",
        "    else:\n",
        "        # If the file doesn't exist, initialize existing_data as an empty list\n",
        "        existing_data = []\n",
        "\n",
        "    # Remove the 'id' field if present in new_details\n",
        "    if 'id' in new_details:\n",
        "        del new_details['id']\n",
        "\n",
        "    # Append new details to existing list\n",
        "    existing_data.append(new_details)\n",
        "\n",
        "    # Write the updated data back to the JSON file\n",
        "    with open(json_file_path, 'w') as json_file:\n",
        "        json.dump(existing_data, json_file, indent=4)\n",
        "\n",
        "    print(\"Data has been updated in\", json_file_path)\n",
        "\n"
      ],
      "metadata": {
        "id": "S5E8N13KJX4u"
      },
      "execution_count": null,
      "outputs": []
    },
    {
      "cell_type": "code",
      "source": [
        "# Example usage\n",
        "json_file_path = \"data.json\"\n",
        "new_details = {\n",
        "    \"link\": [\"https://doi.org/10.1016/J.SCRIPTAMAT.2018.05.043\"],\n",
        "    \"Composition\": \"Fe40Mn20Co20Cr15Si5\",\n",
        "    \"Keywords\": [\"cast\"],\n",
        "}\n",
        "\n",
        "update_json_data(json_file_path, new_details)\n"
      ],
      "metadata": {
        "colab": {
          "base_uri": "https://localhost:8080/"
        },
        "id": "-MndDG4lF9ON",
        "outputId": "1fdfc2cb-7f97-4daa-a55e-58dc22542c2c"
      },
      "execution_count": null,
      "outputs": [
        {
          "output_type": "stream",
          "name": "stdout",
          "text": [
            "Data has been updated in data.json\n"
          ]
        }
      ]
    }
  ]
}