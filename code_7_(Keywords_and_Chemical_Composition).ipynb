{
  "nbformat": 4,
  "nbformat_minor": 0,
  "metadata": {
    "colab": {
      "provenance": [],
      "authorship_tag": "ABX9TyMpCBkTuON+OoOxaCfMrvty",
      "include_colab_link": true
    },
    "kernelspec": {
      "name": "python3",
      "display_name": "Python 3"
    },
    "language_info": {
      "name": "python"
    }
  },
  "cells": [
    {
      "cell_type": "markdown",
      "metadata": {
        "id": "view-in-github",
        "colab_type": "text"
      },
      "source": [
        "<a href=\"https://colab.research.google.com/github/Kishan-Kumar-Zalavadia/Material-Science/blob/main/code_7_(Keywords_and_Chemical_Composition).ipynb\" target=\"_parent\"><img src=\"https://colab.research.google.com/assets/colab-badge.svg\" alt=\"Open In Colab\"/></a>"
      ]
    },
    {
      "cell_type": "code",
      "source": [
        "!pip install PyPDF2"
      ],
      "metadata": {
        "colab": {
          "base_uri": "https://localhost:8080/"
        },
        "id": "3MJ94gf6lCv5",
        "outputId": "d59eae47-c062-4aeb-80df-028e0115fe13"
      },
      "execution_count": null,
      "outputs": [
        {
          "output_type": "stream",
          "name": "stdout",
          "text": [
            "Requirement already satisfied: PyPDF2 in /usr/local/lib/python3.10/dist-packages (3.0.1)\n",
            "Collecting PyMuPDF\n",
            "  Downloading PyMuPDF-1.24.0-cp310-none-manylinux2014_x86_64.whl (3.9 MB)\n",
            "\u001b[2K     \u001b[90m━━━━━━━━━━━━━━━━━━━━━━━━━━━━━━━━━━━━━━━━\u001b[0m \u001b[32m3.9/3.9 MB\u001b[0m \u001b[31m13.4 MB/s\u001b[0m eta \u001b[36m0:00:00\u001b[0m\n",
            "\u001b[?25hCollecting PyMuPDFb==1.24.0 (from PyMuPDF)\n",
            "  Downloading PyMuPDFb-1.24.0-py3-none-manylinux2014_x86_64.manylinux_2_17_x86_64.whl (30.8 MB)\n",
            "\u001b[2K     \u001b[90m━━━━━━━━━━━━━━━━━━━━━━━━━━━━━━━━━━━━━━━━\u001b[0m \u001b[32m30.8/30.8 MB\u001b[0m \u001b[31m38.7 MB/s\u001b[0m eta \u001b[36m0:00:00\u001b[0m\n",
            "\u001b[?25hInstalling collected packages: PyMuPDFb, PyMuPDF\n",
            "Successfully installed PyMuPDF-1.24.0 PyMuPDFb-1.24.0\n"
          ]
        }
      ]
    },
    {
      "cell_type": "code",
      "source": [
        "import re\n",
        "import PyPDF2\n",
        "import nltk\n",
        "from nltk.tokenize import word_tokenize\n",
        "from nltk.corpus import stopwords\n",
        "from nltk.stem import WordNetLemmatizer\n",
        "from nltk.corpus import wordnet\n",
        "import string\n",
        "\n",
        "# Download NLTK resources\n",
        "nltk.download('punkt')\n",
        "nltk.download('stopwords')\n",
        "nltk.download('wordnet')\n",
        "nltk.download('averaged_perceptron_tagger')\n"
      ],
      "metadata": {
        "colab": {
          "base_uri": "https://localhost:8080/"
        },
        "id": "DZyjN4izREyh",
        "outputId": "18ce95e8-6194-4ed6-ac13-18943d652830"
      },
      "execution_count": null,
      "outputs": [
        {
          "output_type": "stream",
          "name": "stderr",
          "text": [
            "[nltk_data] Downloading package punkt to /root/nltk_data...\n",
            "[nltk_data]   Package punkt is already up-to-date!\n",
            "[nltk_data] Downloading package stopwords to /root/nltk_data...\n",
            "[nltk_data]   Package stopwords is already up-to-date!\n",
            "[nltk_data] Downloading package wordnet to /root/nltk_data...\n",
            "[nltk_data]   Package wordnet is already up-to-date!\n",
            "[nltk_data] Downloading package averaged_perceptron_tagger to\n",
            "[nltk_data]     /root/nltk_data...\n",
            "[nltk_data]   Package averaged_perceptron_tagger is already up-to-\n",
            "[nltk_data]       date!\n"
          ]
        },
        {
          "output_type": "execute_result",
          "data": {
            "text/plain": [
              "True"
            ]
          },
          "metadata": {},
          "execution_count": 102
        }
      ]
    },
    {
      "cell_type": "markdown",
      "source": [
        "# Unique Lemmas"
      ],
      "metadata": {
        "id": "u20s0EdNoFfF"
      }
    },
    {
      "cell_type": "code",
      "source": [
        "\n",
        "\n",
        "def extract_text_from_pdf(file_path):\n",
        "    # Parse the PDF and extract text\n",
        "    text = \"\"\n",
        "    try:\n",
        "        with open(file_path, \"rb\") as f:\n",
        "            pdf_reader = PyPDF2.PdfReader(f)\n",
        "            num_pages = len(pdf_reader.pages)\n",
        "            for page_number in range(num_pages):\n",
        "                text += pdf_reader.pages[page_number].extract_text()\n",
        "    except PyPDF2.utils.PdfReadError as e:\n",
        "        print(\"Error reading PDF file:\", e)\n",
        "    except Exception as e:\n",
        "        print(\"An error occurred:\", e)\n",
        "\n",
        "    return text\n",
        "\n",
        "def find_lemmas(text):\n",
        "    # Tokenize the text\n",
        "    words = word_tokenize(text)\n",
        "\n",
        "    # Remove stop words\n",
        "    stop_words = set(stopwords.words('english'))\n",
        "    words = [word for word in words if word.lower() not in stop_words]\n",
        "\n",
        "    # Remove punctuation\n",
        "    words = [word for word in words if word not in string.punctuation]\n",
        "\n",
        "    # Initialize lemmatization object\n",
        "    lemmatizer = WordNetLemmatizer()\n",
        "\n",
        "    # Apply lemmatization to each word\n",
        "    lemmas = [lemmatizer.lemmatize(word, pos=get_wordnet_pos(word)) for word in words]\n",
        "\n",
        "    return lemmas\n",
        "\n",
        "# Function to map POS tag to first character lemmatize() accepts\n",
        "def get_wordnet_pos(word):\n",
        "    tag = nltk.pos_tag([word])[0][1][0].upper()\n",
        "    tag_dict = {\"J\": wordnet.ADJ, \"N\": wordnet.NOUN, \"V\": wordnet.VERB, \"R\": wordnet.ADV}\n",
        "    return tag_dict.get(tag, wordnet.NOUN)\n",
        "\n",
        "# Keywords to search for\n",
        "keywords = {\"cast\", \"forge\", \"powder\"}\n",
        "\n",
        "# Example usage:\n",
        "file_path = \"/content/8.pdf\"\n",
        "text = extract_text_from_pdf(file_path)\n",
        "if text:\n",
        "    lemmas = find_lemmas(text)\n",
        "    found_lemmas = set()\n",
        "    print(\"Unique Lemmas containing the keywords:\")\n",
        "    for lemma in lemmas:\n",
        "        for keyword in keywords:\n",
        "            if keyword in lemma:\n",
        "                found_lemmas.add(lemma)\n",
        "                break\n",
        "    for lemma in found_lemmas:\n",
        "        print(lemma)\n",
        "else:\n",
        "    print(\"Failed to extract text from PDF.\")\n"
      ],
      "metadata": {
        "id": "wU-30ATORFMt",
        "colab": {
          "base_uri": "https://localhost:8080/"
        },
        "outputId": "b23b706f-2c4e-4515-ae41-3224efee0c8b"
      },
      "execution_count": null,
      "outputs": [
        {
          "output_type": "stream",
          "name": "stdout",
          "text": [
            "Unique Lemmas containing the keywords:\n",
            "cast\n",
            "arc-casting\n",
            "as-cast\n"
          ]
        }
      ]
    },
    {
      "cell_type": "markdown",
      "source": [
        "# Extract chemical composition from the text"
      ],
      "metadata": {
        "id": "ejkpzztizPBY"
      }
    },
    {
      "cell_type": "code",
      "source": [
        "import re\n",
        "\n",
        "def extract_chemical_compositions(text, min_length=8):\n",
        "    pattern = r'\\b(?:[A-Z][a-z]?\\d*(?:\\.\\d+)?)+\\b'\n",
        "    chemical_compositions = re.findall(pattern, text)\n",
        "    # Filter compositions based on minimum length\n",
        "    chemical_compositions = [comp for comp in chemical_compositions if len(comp) >= min_length]\n",
        "    return chemical_compositions\n",
        "\n",
        "text = '''\n",
        "High-strength materials lack a synergistic Fe30CrFe combination of mechanical properties and corrosion resistance desired for most structural applications. Phase and grain boundary architecturing is done in the material to attain balance in these properties. A friction stir processed Fe38.5Mn20Co20Cr15Si5Cu1.5 (Cu-HEA) exhibited excellent mechanical properties and high corrosion resistance in synergy. The excellent mechanical properties were attributed to the controlled transformation of ultrafine γ matrix and ε twinning; whereas good corrosion resistance was due to ho- mogenized fine grained γ microstructure. In short, Cu-HEA design opens a new pathway towards realizing strong and ductile alloys with tunable corrosion resistance by engineering matrix metastability.\n",
        "'''\n",
        "\n",
        "chemicals = extract_chemical_compositions(text)\n",
        "print(chemicals)\n"
      ],
      "metadata": {
        "colab": {
          "base_uri": "https://localhost:8080/"
        },
        "id": "JNczSQHmzvv-",
        "outputId": "572eac79-5fa4-48b7-f8e4-1fd40eeaae62"
      },
      "execution_count": null,
      "outputs": [
        {
          "output_type": "stream",
          "name": "stdout",
          "text": [
            "['Fe30CrFe', 'Fe38.5Mn20Co20Cr15Si5Cu1.5']\n"
          ]
        }
      ]
    }
  ]
}